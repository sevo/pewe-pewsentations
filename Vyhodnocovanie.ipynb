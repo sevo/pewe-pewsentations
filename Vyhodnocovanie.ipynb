{
 "cells": [
  {
   "cell_type": "markdown",
   "metadata": {},
   "source": [
    "# Obsah\n",
    "\n",
    "## Trenovacia / testovacia / validacna vzorka\n",
    "\n",
    "## Krizova validacia\n",
    "\n",
    "## Metriky vyhodnocovania\n",
    "\n",
    "## Hyperparameter tuning\n",
    "\n",
    "## Overfitting\n",
    "\n",
    "## Variance / Bias "
   ]
  },
  {
   "cell_type": "markdown",
   "metadata": {},
   "source": [
    "# Motivacia pre vyhodnocovanie klasifikatorov\n",
    "\n",
    "Existuje sptrane vela pristupov a typov klasifikatorov. ** Ktory z nich je najlepsi? **\n",
    "\n",
    "Rozne klasifikatory maju rozne parametre. ** Ako nastavit klasifikator tak, aby daval najlepsie vysledky? ** "
   ]
  },
  {
   "cell_type": "code",
   "execution_count": 1,
   "metadata": {
    "collapsed": true
   },
   "outputs": [],
   "source": [
    "%matplotlib inline\n",
    "import pandas as pd\n",
    "import numpy as np\n",
    "import matplotlib.pyplot as plt\n",
    "import seaborn"
   ]
  },
  {
   "cell_type": "code",
   "execution_count": 2,
   "metadata": {
    "collapsed": true
   },
   "outputs": [],
   "source": [
    "import warnings\n",
    "warnings.filterwarnings('ignore')"
   ]
  },
  {
   "cell_type": "code",
   "execution_count": 3,
   "metadata": {
    "collapsed": true
   },
   "outputs": [],
   "source": [
    "plt.rcParams['figure.figsize'] = 9, 6"
   ]
  },
  {
   "cell_type": "markdown",
   "metadata": {},
   "source": [
    "# Dataset"
   ]
  },
  {
   "cell_type": "code",
   "execution_count": 4,
   "metadata": {
    "collapsed": true
   },
   "outputs": [],
   "source": [
    "from sklearn.datasets import load_breast_cancer"
   ]
  },
  {
   "cell_type": "code",
   "execution_count": 5,
   "metadata": {
    "collapsed": true
   },
   "outputs": [],
   "source": [
    "data = load_breast_cancer()\n",
    "\n",
    "label_names = data['target_names']\n",
    "labels = data['target']\n",
    "feature_names = data['feature_names']\n",
    "features = data['data']"
   ]
  },
  {
   "cell_type": "code",
   "execution_count": 6,
   "metadata": {},
   "outputs": [
    {
     "data": {
      "text/plain": [
       "array(['malignant', 'benign'],\n",
       "      dtype='<U9')"
      ]
     },
     "execution_count": 6,
     "metadata": {},
     "output_type": "execute_result"
    }
   ],
   "source": [
    "label_names"
   ]
  },
  {
   "cell_type": "code",
   "execution_count": 7,
   "metadata": {},
   "outputs": [
    {
     "data": {
      "text/plain": [
       "array([1, 1, 1, 0, 0, 0, 0, 0, 0, 1])"
      ]
     },
     "execution_count": 7,
     "metadata": {},
     "output_type": "execute_result"
    }
   ],
   "source": [
    "labels[-10:]"
   ]
  },
  {
   "cell_type": "code",
   "execution_count": 8,
   "metadata": {},
   "outputs": [
    {
     "data": {
      "text/plain": [
       "array(['mean radius', 'mean texture', 'mean perimeter', 'mean area',\n",
       "       'mean smoothness', 'mean compactness', 'mean concavity',\n",
       "       'mean concave points', 'mean symmetry', 'mean fractal dimension',\n",
       "       'radius error', 'texture error', 'perimeter error', 'area error',\n",
       "       'smoothness error', 'compactness error', 'concavity error',\n",
       "       'concave points error', 'symmetry error', 'fractal dimension error',\n",
       "       'worst radius', 'worst texture', 'worst perimeter', 'worst area',\n",
       "       'worst smoothness', 'worst compactness', 'worst concavity',\n",
       "       'worst concave points', 'worst symmetry', 'worst fractal dimension'],\n",
       "      dtype='<U23')"
      ]
     },
     "execution_count": 8,
     "metadata": {},
     "output_type": "execute_result"
    }
   ],
   "source": [
    "feature_names"
   ]
  },
  {
   "cell_type": "code",
   "execution_count": 9,
   "metadata": {},
   "outputs": [
    {
     "data": {
      "text/plain": [
       "array([[  1.79900000e+01,   1.03800000e+01,   1.22800000e+02, ...,\n",
       "          2.65400000e-01,   4.60100000e-01,   1.18900000e-01],\n",
       "       [  2.05700000e+01,   1.77700000e+01,   1.32900000e+02, ...,\n",
       "          1.86000000e-01,   2.75000000e-01,   8.90200000e-02],\n",
       "       [  1.96900000e+01,   2.12500000e+01,   1.30000000e+02, ...,\n",
       "          2.43000000e-01,   3.61300000e-01,   8.75800000e-02],\n",
       "       ..., \n",
       "       [  1.66000000e+01,   2.80800000e+01,   1.08300000e+02, ...,\n",
       "          1.41800000e-01,   2.21800000e-01,   7.82000000e-02],\n",
       "       [  2.06000000e+01,   2.93300000e+01,   1.40100000e+02, ...,\n",
       "          2.65000000e-01,   4.08700000e-01,   1.24000000e-01],\n",
       "       [  7.76000000e+00,   2.45400000e+01,   4.79200000e+01, ...,\n",
       "          0.00000000e+00,   2.87100000e-01,   7.03900000e-02]])"
      ]
     },
     "execution_count": 9,
     "metadata": {},
     "output_type": "execute_result"
    }
   ],
   "source": [
    "features"
   ]
  },
  {
   "cell_type": "code",
   "execution_count": 10,
   "metadata": {},
   "outputs": [
    {
     "data": {
      "text/html": [
       "<div>\n",
       "<table border=\"1\" class=\"dataframe\">\n",
       "  <thead>\n",
       "    <tr style=\"text-align: right;\">\n",
       "      <th></th>\n",
       "      <th>mean radius</th>\n",
       "      <th>mean texture</th>\n",
       "      <th>mean perimeter</th>\n",
       "      <th>mean area</th>\n",
       "      <th>mean smoothness</th>\n",
       "      <th>mean compactness</th>\n",
       "      <th>mean concavity</th>\n",
       "      <th>mean concave points</th>\n",
       "      <th>mean symmetry</th>\n",
       "      <th>mean fractal dimension</th>\n",
       "      <th>...</th>\n",
       "      <th>worst texture</th>\n",
       "      <th>worst perimeter</th>\n",
       "      <th>worst area</th>\n",
       "      <th>worst smoothness</th>\n",
       "      <th>worst compactness</th>\n",
       "      <th>worst concavity</th>\n",
       "      <th>worst concave points</th>\n",
       "      <th>worst symmetry</th>\n",
       "      <th>worst fractal dimension</th>\n",
       "      <th>target</th>\n",
       "    </tr>\n",
       "  </thead>\n",
       "  <tbody>\n",
       "    <tr>\n",
       "      <th>0</th>\n",
       "      <td>17.99</td>\n",
       "      <td>10.38</td>\n",
       "      <td>122.80</td>\n",
       "      <td>1001.0</td>\n",
       "      <td>0.11840</td>\n",
       "      <td>0.27760</td>\n",
       "      <td>0.3001</td>\n",
       "      <td>0.14710</td>\n",
       "      <td>0.2419</td>\n",
       "      <td>0.07871</td>\n",
       "      <td>...</td>\n",
       "      <td>17.33</td>\n",
       "      <td>184.60</td>\n",
       "      <td>2019.0</td>\n",
       "      <td>0.1622</td>\n",
       "      <td>0.6656</td>\n",
       "      <td>0.7119</td>\n",
       "      <td>0.2654</td>\n",
       "      <td>0.4601</td>\n",
       "      <td>0.11890</td>\n",
       "      <td>0</td>\n",
       "    </tr>\n",
       "    <tr>\n",
       "      <th>1</th>\n",
       "      <td>20.57</td>\n",
       "      <td>17.77</td>\n",
       "      <td>132.90</td>\n",
       "      <td>1326.0</td>\n",
       "      <td>0.08474</td>\n",
       "      <td>0.07864</td>\n",
       "      <td>0.0869</td>\n",
       "      <td>0.07017</td>\n",
       "      <td>0.1812</td>\n",
       "      <td>0.05667</td>\n",
       "      <td>...</td>\n",
       "      <td>23.41</td>\n",
       "      <td>158.80</td>\n",
       "      <td>1956.0</td>\n",
       "      <td>0.1238</td>\n",
       "      <td>0.1866</td>\n",
       "      <td>0.2416</td>\n",
       "      <td>0.1860</td>\n",
       "      <td>0.2750</td>\n",
       "      <td>0.08902</td>\n",
       "      <td>0</td>\n",
       "    </tr>\n",
       "    <tr>\n",
       "      <th>2</th>\n",
       "      <td>19.69</td>\n",
       "      <td>21.25</td>\n",
       "      <td>130.00</td>\n",
       "      <td>1203.0</td>\n",
       "      <td>0.10960</td>\n",
       "      <td>0.15990</td>\n",
       "      <td>0.1974</td>\n",
       "      <td>0.12790</td>\n",
       "      <td>0.2069</td>\n",
       "      <td>0.05999</td>\n",
       "      <td>...</td>\n",
       "      <td>25.53</td>\n",
       "      <td>152.50</td>\n",
       "      <td>1709.0</td>\n",
       "      <td>0.1444</td>\n",
       "      <td>0.4245</td>\n",
       "      <td>0.4504</td>\n",
       "      <td>0.2430</td>\n",
       "      <td>0.3613</td>\n",
       "      <td>0.08758</td>\n",
       "      <td>0</td>\n",
       "    </tr>\n",
       "    <tr>\n",
       "      <th>3</th>\n",
       "      <td>11.42</td>\n",
       "      <td>20.38</td>\n",
       "      <td>77.58</td>\n",
       "      <td>386.1</td>\n",
       "      <td>0.14250</td>\n",
       "      <td>0.28390</td>\n",
       "      <td>0.2414</td>\n",
       "      <td>0.10520</td>\n",
       "      <td>0.2597</td>\n",
       "      <td>0.09744</td>\n",
       "      <td>...</td>\n",
       "      <td>26.50</td>\n",
       "      <td>98.87</td>\n",
       "      <td>567.7</td>\n",
       "      <td>0.2098</td>\n",
       "      <td>0.8663</td>\n",
       "      <td>0.6869</td>\n",
       "      <td>0.2575</td>\n",
       "      <td>0.6638</td>\n",
       "      <td>0.17300</td>\n",
       "      <td>0</td>\n",
       "    </tr>\n",
       "    <tr>\n",
       "      <th>4</th>\n",
       "      <td>20.29</td>\n",
       "      <td>14.34</td>\n",
       "      <td>135.10</td>\n",
       "      <td>1297.0</td>\n",
       "      <td>0.10030</td>\n",
       "      <td>0.13280</td>\n",
       "      <td>0.1980</td>\n",
       "      <td>0.10430</td>\n",
       "      <td>0.1809</td>\n",
       "      <td>0.05883</td>\n",
       "      <td>...</td>\n",
       "      <td>16.67</td>\n",
       "      <td>152.20</td>\n",
       "      <td>1575.0</td>\n",
       "      <td>0.1374</td>\n",
       "      <td>0.2050</td>\n",
       "      <td>0.4000</td>\n",
       "      <td>0.1625</td>\n",
       "      <td>0.2364</td>\n",
       "      <td>0.07678</td>\n",
       "      <td>0</td>\n",
       "    </tr>\n",
       "  </tbody>\n",
       "</table>\n",
       "<p>5 rows × 31 columns</p>\n",
       "</div>"
      ],
      "text/plain": [
       "   mean radius  mean texture  mean perimeter  mean area  mean smoothness  \\\n",
       "0        17.99         10.38          122.80     1001.0          0.11840   \n",
       "1        20.57         17.77          132.90     1326.0          0.08474   \n",
       "2        19.69         21.25          130.00     1203.0          0.10960   \n",
       "3        11.42         20.38           77.58      386.1          0.14250   \n",
       "4        20.29         14.34          135.10     1297.0          0.10030   \n",
       "\n",
       "   mean compactness  mean concavity  mean concave points  mean symmetry  \\\n",
       "0           0.27760          0.3001              0.14710         0.2419   \n",
       "1           0.07864          0.0869              0.07017         0.1812   \n",
       "2           0.15990          0.1974              0.12790         0.2069   \n",
       "3           0.28390          0.2414              0.10520         0.2597   \n",
       "4           0.13280          0.1980              0.10430         0.1809   \n",
       "\n",
       "   mean fractal dimension   ...    worst texture  worst perimeter  worst area  \\\n",
       "0                 0.07871   ...            17.33           184.60      2019.0   \n",
       "1                 0.05667   ...            23.41           158.80      1956.0   \n",
       "2                 0.05999   ...            25.53           152.50      1709.0   \n",
       "3                 0.09744   ...            26.50            98.87       567.7   \n",
       "4                 0.05883   ...            16.67           152.20      1575.0   \n",
       "\n",
       "   worst smoothness  worst compactness  worst concavity  worst concave points  \\\n",
       "0            0.1622             0.6656           0.7119                0.2654   \n",
       "1            0.1238             0.1866           0.2416                0.1860   \n",
       "2            0.1444             0.4245           0.4504                0.2430   \n",
       "3            0.2098             0.8663           0.6869                0.2575   \n",
       "4            0.1374             0.2050           0.4000                0.1625   \n",
       "\n",
       "   worst symmetry  worst fractal dimension  target  \n",
       "0          0.4601                  0.11890       0  \n",
       "1          0.2750                  0.08902       0  \n",
       "2          0.3613                  0.08758       0  \n",
       "3          0.6638                  0.17300       0  \n",
       "4          0.2364                  0.07678       0  \n",
       "\n",
       "[5 rows x 31 columns]"
      ]
     },
     "execution_count": 10,
     "metadata": {},
     "output_type": "execute_result"
    }
   ],
   "source": [
    "df = pd.DataFrame(features)\n",
    "df.columns = feature_names\n",
    "df['target'] = labels\n",
    "df.head()"
   ]
  },
  {
   "cell_type": "code",
   "execution_count": 12,
   "metadata": {
    "collapsed": true
   },
   "outputs": [],
   "source": [
    "# %%time\n",
    "# seaborn.pairplot(df, hue=\"target\")\n",
    "# plt.savefig('img/breast_cancer_pairplot.png')\n",
    "\n",
    "## CPU times: user 4min 46s, sys: 3min 59s, total: 8min 46s\n",
    "## Wall time: 4min 13s"
   ]
  },
  {
   "cell_type": "markdown",
   "metadata": {},
   "source": [
    "[pairplot](img/breast_cancer_pairplot.png)\n",
    "![pairplot](img/breast_cancer_pairplot.png)"
   ]
  },
  {
   "cell_type": "markdown",
   "metadata": {},
   "source": [
    "# Trenovacia / testovacia vzorka\n",
    "\n",
    "Aby sme dostali prdstavu o tom aky dobry model sme vytvorili, potrebujeme ho otestovat. Testovat by sme mali na inych datach ako sme trenovali. Priamociary sposob na toto je rozdelit nase data na trenovaciu a testovaciu vzorku v nejakom pomere."
   ]
  },
  {
   "cell_type": "code",
   "execution_count": 13,
   "metadata": {
    "collapsed": true
   },
   "outputs": [],
   "source": [
    "from sklearn.model_selection import train_test_split\n",
    "train, test, train_labels, test_labels = train_test_split(features,\n",
    "                                                          labels,\n",
    "                                                          test_size=0.33,\n",
    "                                                          random_state=42)"
   ]
  },
  {
   "cell_type": "markdown",
   "metadata": {},
   "source": [
    "Nikdy sa nesmie model trenovat a testovat na tych istych datach. Hrozilo by nam, ze "
   ]
  },
  {
   "cell_type": "code",
   "execution_count": 14,
   "metadata": {
    "collapsed": true
   },
   "outputs": [],
   "source": [
    "# natrenujeme si nejaky klasifikator\n",
    "from sklearn.ensemble import RandomForestClassifier\n",
    "cls = RandomForestClassifier()\n",
    "model = cls.fit(train, train_labels)"
   ]
  },
  {
   "cell_type": "markdown",
   "metadata": {},
   "source": [
    "Teraz uz mame natrenovany model na trenovacich datach. Co sa stane ak skusime predikovat vysledky na trenovacich datach?"
   ]
  },
  {
   "cell_type": "code",
   "execution_count": 15,
   "metadata": {},
   "outputs": [
    {
     "data": {
      "text/plain": [
       "0.99737532808398954"
      ]
     },
     "execution_count": 15,
     "metadata": {},
     "output_type": "execute_result"
    }
   ],
   "source": [
    "cls.score(train, train_labels)"
   ]
  },
  {
   "cell_type": "code",
   "execution_count": 16,
   "metadata": {},
   "outputs": [
    {
     "data": {
      "text/plain": [
       "0.99737532808398954"
      ]
     },
     "execution_count": 16,
     "metadata": {},
     "output_type": "execute_result"
    }
   ],
   "source": [
    "from sklearn.metrics import accuracy_score\n",
    "train_preds = model.predict(train)\n",
    "accuracy_score(train_labels, train_preds)"
   ]
  },
  {
   "cell_type": "markdown",
   "metadata": {},
   "source": [
    "Tento vysledok presnosti klasifikacie je na datach, ktore model pouzival na ucenie. Nehovori nam to nic o tom ako sa bude model spravat v pripade ak mu ukazeme data, ktore nikdy nevidel. Prave kvoli tomu sme si vytvorili testovaciu vzorku. Testovacie data nikdy neboli pouzite na trenovanie a teda uspesnost na tychto datach by nam mala dat realnejsiu predstavu o kvalite modelu."
   ]
  },
  {
   "cell_type": "code",
   "execution_count": 17,
   "metadata": {},
   "outputs": [
    {
     "data": {
      "text/plain": [
       "0.94680851063829785"
      ]
     },
     "execution_count": 17,
     "metadata": {},
     "output_type": "execute_result"
    }
   ],
   "source": [
    "cls.score(test, test_labels)"
   ]
  },
  {
   "cell_type": "code",
   "execution_count": 18,
   "metadata": {},
   "outputs": [
    {
     "data": {
      "text/plain": [
       "0.94680851063829785"
      ]
     },
     "execution_count": 18,
     "metadata": {},
     "output_type": "execute_result"
    }
   ],
   "source": [
    "preds = model.predict(test)\n",
    "accuracy_score(test_labels, preds)"
   ]
  },
  {
   "cell_type": "markdown",
   "metadata": {},
   "source": [
    "Uspesnost na testovacej vzorke je spravidla mensia ako na trenovacej vzorke. Ved ten model nikdy testovacie data nevidel a teda moze vyuzivat len skryte vztahy, ktore sa skutocne naucil. \n",
    "\n",
    "Ak je velky rozdiel medzi trenovacou a testovacou chybou, tak by to mohlo znamenat, ze je model pretrenovany. Ze sa naucil data naspamat a nie tie skryte pravidla, ktore su vseobecne a platne aj pre data, ktore nikdy nevidel."
   ]
  },
  {
   "cell_type": "markdown",
   "metadata": {},
   "source": [
    "# Krizova validacia\n",
    "\n",
    "Ked mame malo dat, tak nechceme odstrihnut vyznamnu cast dat na testovanie a nikdy ich nepouzit na trenovanie. Ved to je skoda. Co ked prave v tychto datach bolo nieco, co by tomu modelu vyznamne pomohlo?\n",
    "\n",
    "POuziva sa preto krizova validacia"
   ]
  },
  {
   "cell_type": "code",
   "execution_count": 19,
   "metadata": {},
   "outputs": [
    {
     "name": "stdout",
     "output_type": "stream",
     "text": [
      "[ 0.91304348  0.90434783  0.99115044  0.95575221  0.96460177]\n",
      "0.945779145825\n"
     ]
    }
   ],
   "source": [
    "from sklearn.model_selection import cross_val_score\n",
    "\n",
    "cls = RandomForestClassifier()\n",
    "scores = cross_val_score(cls, features, labels, cv=5)\n",
    "print(scores)\n",
    "print(scores.mean())"
   ]
  },
  {
   "cell_type": "code",
   "execution_count": 20,
   "metadata": {},
   "outputs": [
    {
     "data": {
      "text/plain": [
       "{'boxes': [<matplotlib.lines.Line2D at 0x7fb5ffdc0208>],\n",
       " 'caps': [<matplotlib.lines.Line2D at 0x7fb5ffe0aeb8>,\n",
       "  <matplotlib.lines.Line2D at 0x7fb5ffe0a550>],\n",
       " 'fliers': [<matplotlib.lines.Line2D at 0x7fb5ffdf6400>],\n",
       " 'means': [],\n",
       " 'medians': [<matplotlib.lines.Line2D at 0x7fb5ffdfb518>],\n",
       " 'whiskers': [<matplotlib.lines.Line2D at 0x7fb660ddbef0>,\n",
       "  <matplotlib.lines.Line2D at 0x7fb5ffdc0dd8>]}"
      ]
     },
     "execution_count": 20,
     "metadata": {},
     "output_type": "execute_result"
    },
    {
     "data": {
      "image/png": "[encoded data removed]",
      "text/plain": [
       "<matplotlib.figure.Figure at 0x7fb601e3eef0>"
      ]
     },
     "metadata": {},
     "output_type": "display_data"
    }
   ],
   "source": [
    "plt.boxplot(scores)"
   ]
  },
  {
   "cell_type": "code",
   "execution_count": 21,
   "metadata": {},
   "outputs": [
    {
     "name": "stdout",
     "output_type": "stream",
     "text": [
      "[ 1.  1.  1.  1.  1.  1.  1.  1.  1.  1.  1.  1.  1.  1.  1.  1.  1.  1.\n",
      "  1.  1.  1.  1.  1.  1.  1.  1.  1.  1.  1.  1.  1.  1.  1.  1.  1.  1.\n",
      "  1.  1.  1.  1.  0.  0.  1.  1.  1.  1.  1.  1.  1.  1.  1.  1.  1.  1.\n",
      "  1.  1.  1.  1.  1.  1.  1.  1.  1.  1.  1.  1.  1.  1.  1.  1.  1.  1.\n",
      "  1.  0.  1.  1.  1.  1.  1.  1.  1.  0.  1.  1.  1.  1.  0.  1.  1.  0.\n",
      "  1.  1.  1.  1.  1.  1.  1.  1.  1.  1.  1.  1.  1.  1.  1.  1.  1.  1.\n",
      "  1.  1.  1.  1.  0.  1.  1.  1.  1.  1.  1.  1.  1.  1.  1.  1.  1.  1.\n",
      "  1.  1.  1.  1.  1.  1.  1.  0.  1.  0.  1.  1.  1.  1.  1.  1.  1.  1.\n",
      "  1.  1.  0.  1.  0.  1.  1.  1.  1.  1.  1.  1.  1.  0.  1.  1.  1.  1.\n",
      "  1.  1.  1.  1.  1.  1.  1.  1.  1.  1.  1.  1.  1.  1.  1.  1.  1.  1.\n",
      "  1.  1.  1.  1.  1.  1.  1.  1.  1.  1.  1.  1.  1.  1.  1.  1.  1.  1.\n",
      "  1.  1.  1.  1.  1.  1.  1.  1.  1.  1.  1.  0.  1.  1.  1.  1.  1.  1.\n",
      "  1.  1.  1.  1.  1.  1.  1.  1.  1.  1.  1.  1.  1.  1.  1.  1.  1.  1.\n",
      "  1.  1.  1.  1.  1.  1.  1.  1.  1.  1.  1.  1.  1.  1.  1.  1.  1.  1.\n",
      "  1.  1.  1.  1.  1.  1.  1.  1.  1.  1.  1.  1.  1.  1.  1.  1.  1.  1.\n",
      "  1.  1.  1.  1.  1.  1.  1.  1.  1.  1.  1.  1.  1.  1.  1.  1.  1.  1.\n",
      "  1.  1.  1.  0.  1.  1.  1.  1.  1.  0.  1.  1.  1.  1.  1.  1.  1.  1.\n",
      "  1.  1.  1.  1.  1.  1.  1.  1.  1.  1.  1.  1.  1.  1.  1.  1.  1.  1.\n",
      "  1.  1.  1.  1.  1.  1.  1.  1.  1.  1.  1.  1.  1.  1.  1.  1.  1.  1.\n",
      "  1.  1.  1.  1.  1.  0.  1.  1.  1.  1.  1.  1.  1.  1.  1.  1.  1.  1.\n",
      "  1.  1.  1.  0.  1.  1.  1.  1.  1.  1.  1.  1.  1.  1.  1.  1.  1.  1.\n",
      "  1.  1.  1.  1.  1.  1.  1.  0.  1.  1.  1.  1.  1.  1.  1.  1.  1.  1.\n",
      "  1.  1.  1.  1.  1.  1.  1.  1.  1.  1.  0.  1.  1.  1.  1.  1.  1.  0.\n",
      "  0.  1.  1.  1.  1.  1.  1.  0.  1.  1.  1.  1.  1.  1.  1.  1.  1.  1.\n",
      "  1.  1.  1.  1.  1.  1.  1.  1.  1.  1.  1.  1.  1.  1.  1.  1.  1.  1.\n",
      "  1.  1.  1.  1.  1.  1.  1.  1.  1.  1.  1.  1.  1.  1.  1.  1.  1.  1.\n",
      "  1.  1.  1.  1.  1.  1.  1.  1.  1.  1.  1.  1.  1.  1.  1.  1.  0.  1.\n",
      "  1.  1.  1.  1.  1.  0.  1.  1.  1.  1.  1.  1.  1.  1.  1.  1.  1.  1.\n",
      "  1.  1.  1.  1.  1.  1.  1.  1.  1.  1.  1.  1.  1.  1.  1.  1.  1.  1.\n",
      "  1.  1.  1.  1.  1.  1.  1.  1.  1.  1.  1.  1.  1.  1.  0.  1.  1.  1.\n",
      "  1.  0.  1.  1.  1.  1.  1.  1.  1.  1.  1.  1.  1.  1.  1.  1.  1.  1.\n",
      "  1.  1.  1.  1.  1.  1.  1.  1.  1.  1.  1.]\n",
      "0.954305799649\n",
      "CPU times: user 17.7 s, sys: 104 ms, total: 17.8 s\n",
      "Wall time: 17.7 s\n"
     ]
    }
   ],
   "source": [
    "%%time\n",
    "\n",
    "from sklearn.model_selection import LeaveOneOut\n",
    "\n",
    "cls = RandomForestClassifier()\n",
    "scores = cross_val_score(cls, features, labels, cv=LeaveOneOut())\n",
    "print(scores)\n",
    "print(scores.mean())"
   ]
  },
  {
   "cell_type": "markdown",
   "metadata": {},
   "source": [
    "Pri leave one out sa pouziva maximalne mnozstvo dat na trenovanie a zaroven aj vsetky data na testovanie. Samostatne skore ale nemaju zmysel. Zmysel ma len ich priemer."
   ]
  },
  {
   "cell_type": "markdown",
   "metadata": {},
   "source": [
    "## Krizova validacia vytvori *k* modelov, ako vybrat ten, ktory sa pouzije v produkcii na predikciu?\n",
    "\n",
    "Nijak. Pouzivajte krizovu validaciu na najdenie najlepsieho nastavenia (vyber algoritmov, atributov a hyperparametrov). Ked toto spravite, tak natrenujte uplne novy model na vsetkych datach, ktore mate a pustite to do produkcie.\n",
    "\n",
    "Pokial nepotrebujete niekomu vopred odhadnut aka asi bude uspesnost na neznamys datach. Vtedy budete potrebovat nejaku testovaciu vzorku, ktoru nepouzijete na trenovanie."
   ]
  },
  {
   "cell_type": "markdown",
   "metadata": {},
   "source": [
    "## Existuju aj dalsie sposoby ako rozdelit trenovacie a testovacie data\n",
    "* Pri inkrementalnom spracovani sa pouziva Test-then-train kde sa najskor pouziju data na overenie chyby modelu a potom sa pouziju na upravenie modelu\n",
    "* Ak mame zavislosti medzi pozorvaniami (casove, generovanie spolocnym procesom / pouzivatelom), tak je mozne upravit rozdelovanie tak, aby sa nachadzali zavisle pozorovania spolu alebo aby boli rovnomerne rozdelene medzi sady"
   ]
  },
  {
   "cell_type": "markdown",
   "metadata": {},
   "source": [
    "# Metriky vyhodnocovania\n",
    "\n",
    "Existuje strasne vela roznych metrik na vyhodnocovanie klasifikacie/regresie/zhlukovania ... Vela z nich je uz predpriprvenych v SciKit kniznici.\n",
    "\n",
    "http://scikit-learn.org/stable/modules/model_evaluation.html\n",
    "\n",
    "Dnes sa budeme venovat hlavne klasifikacii, ale vsetky tieto koncepty su aplikovatelne aj pre ine ulohy analyzy dat, len s pouzitim zodpovedajucich metrik na vyhodnocovanie.\n",
    "\n",
    "## Vela metrik na vyhodnocovanie uspesnosti klasifikatorov sa pocita z matice zamien (confusion matrix)\n",
    "\n",
    "![confusion matrix](img/confusion_matrix2.png)\n",
    "\n",
    "Tu je pekny obrazok z wikipedia, kde su zobrazene aj rozne metriky, ktore sa z matice zamien daju spocitat\n",
    "\n",
    "![classification metrics](img/metrics.png)\n",
    "\n",
    "Zdroj obrazka: [https://en.wikipedia.org/wiki/Precision_and_recall](https://en.wikipedia.org/wiki/Precision_and_recall)"
   ]
  },
  {
   "cell_type": "code",
   "execution_count": 57,
   "metadata": {},
   "outputs": [
    {
     "data": {
      "text/plain": [
       "0.94680851063829785"
      ]
     },
     "execution_count": 57,
     "metadata": {},
     "output_type": "execute_result"
    }
   ],
   "source": [
    "from sklearn.ensemble import RandomForestClassifier\n",
    "cls = RandomForestClassifier()\n",
    "model = cls.fit(train, train_labels)\n",
    "cls.score(test, test_labels) # toto pocita metriku accuracy (spravnost)"
   ]
  },
  {
   "cell_type": "code",
   "execution_count": 58,
   "metadata": {},
   "outputs": [
    {
     "data": {
      "text/plain": [
       "0.94680851063829785"
      ]
     },
     "execution_count": 58,
     "metadata": {},
     "output_type": "execute_result"
    }
   ],
   "source": [
    "preds = model.predict(test)\n",
    "accuracy_score(test_labels, preds)"
   ]
  },
  {
   "cell_type": "markdown",
   "metadata": {},
   "source": [
    "![confusion matrix](img/confusion_matrix2.png)\n",
    "\n",
    "**Accuracy (spravnost)** - kolko pozoorvani ste oznacili spravne\n",
    "$$accuracy = \\frac{TP + TN}{ALL}$$"
   ]
  },
  {
   "cell_type": "code",
   "execution_count": 59,
   "metadata": {},
   "outputs": [
    {
     "data": {
      "text/plain": [
       "array([[ 64,   3],\n",
       "       [  7, 114]])"
      ]
     },
     "execution_count": 59,
     "metadata": {},
     "output_type": "execute_result"
    }
   ],
   "source": [
    "from sklearn.metrics import confusion_matrix\n",
    "\n",
    "confusion_matrix(test_labels, preds)"
   ]
  },
  {
   "cell_type": "code",
   "execution_count": 61,
   "metadata": {},
   "outputs": [
    {
     "data": {
      "text/plain": [
       "0.9468085106382979"
      ]
     },
     "execution_count": 61,
     "metadata": {},
     "output_type": "execute_result"
    }
   ],
   "source": [
    "(64 + 114) / (64 + 3 + 7 + 114)"
   ]
  },
  {
   "cell_type": "markdown",
   "metadata": {},
   "source": [
    "## Limitacie accuracy"
   ]
  },
  {
   "cell_type": "code",
   "execution_count": 62,
   "metadata": {},
   "outputs": [
    {
     "data": {
      "text/plain": [
       "<matplotlib.collections.PathCollection at 0x7fb6509f9f28>"
      ]
     },
     "execution_count": 62,
     "metadata": {},
     "output_type": "execute_result"
    },
    {
     "data": {
      "image/png": "[encoded data removed]",
      "text/plain": [
       "<matplotlib.figure.Figure at 0x7fb650a11eb8>"
      ]
     },
     "metadata": {},
     "output_type": "display_data"
    }
   ],
   "source": [
    "from sklearn.datasets import make_classification\n",
    "from sklearn.decomposition import PCA\n",
    "\n",
    "\n",
    "X, y = make_classification(n_classes=2, class_sep=1, weights=[0.95, 0.05],\n",
    "                           n_informative=3, n_redundant=1, flip_y=0,\n",
    "                           n_features=20, n_clusters_per_class=1,\n",
    "                           n_samples=5000, random_state=10)\n",
    "\n",
    "pca = PCA(n_components=2)\n",
    "X_vis = pca.fit_transform(X)\n",
    "\n",
    "palette = seaborn.color_palette()\n",
    "\n",
    "plt.scatter(X_vis[y == 0, 0], X_vis[y == 0, 1], label=\"Class #0\", alpha=0.5,\n",
    "            facecolor=palette[0], linewidth=0.15)\n",
    "plt.scatter(X_vis[y == 1, 0], X_vis[y == 1, 1], label=\"Class #1\", alpha=0.5,\n",
    "            facecolor=palette[2], linewidth=0.15)\n",
    "plt.scatter(X_vis[y == 2, 0], X_vis[y == 2, 1], label=\"Class #2\", alpha=0.5,\n",
    "            facecolor=palette[3], linewidth=0.15)"
   ]
  },
  {
   "cell_type": "code",
   "execution_count": 27,
   "metadata": {
    "collapsed": true
   },
   "outputs": [],
   "source": [
    "X_train, X_test, y_train, y_test = train_test_split(X, y, test_size=0.3, random_state=0)"
   ]
  },
  {
   "cell_type": "code",
   "execution_count": 28,
   "metadata": {},
   "outputs": [
    {
     "data": {
      "text/plain": [
       "0.95866666666666667"
      ]
     },
     "execution_count": 28,
     "metadata": {},
     "output_type": "execute_result"
    }
   ],
   "source": [
    "from sklearn.neighbors import KNeighborsClassifier\n",
    "\n",
    "cls = KNeighborsClassifier(3)\n",
    "model = cls.fit(X_train, y_train)\n",
    "y_pred = cls.predict(X_test)\n",
    "accuracy_score(y_test, y_pred)"
   ]
  },
  {
   "cell_type": "code",
   "execution_count": 29,
   "metadata": {},
   "outputs": [
    {
     "data": {
      "text/plain": [
       "0.95199999999999996"
      ]
     },
     "execution_count": 29,
     "metadata": {},
     "output_type": "execute_result"
    }
   ],
   "source": [
    "accuracy_score(y_test, np.zeros(len(y_pred)))"
   ]
  },
  {
   "cell_type": "markdown",
   "metadata": {},
   "source": [
    "**Precision (presnost)** - kolko z tych, co ste oznacili ako pozitivna trieda malo naozaj pozitivnu triedu\n",
    "$$precision = \\frac{TP}{TP + FP}$$\n",
    "\n",
    "**Recall (pokrytie)** - Kolko zo vsetkych s pozitivnou triedou ste dokazali oznacit ako pozitivna trieda\n",
    "$$recall = \\frac{TP}{TP + FN}$$"
   ]
  },
  {
   "cell_type": "code",
   "execution_count": 30,
   "metadata": {},
   "outputs": [
    {
     "name": "stdout",
     "output_type": "stream",
     "text": [
      "0.75\n",
      "0.0\n"
     ]
    }
   ],
   "source": [
    "from sklearn.metrics import precision_score\n",
    "\n",
    "print(precision_score(y_test, y_pred))\n",
    "print(precision_score(y_test, np.zeros(len(y_pred))))"
   ]
  },
  {
   "cell_type": "code",
   "execution_count": 31,
   "metadata": {},
   "outputs": [
    {
     "name": "stdout",
     "output_type": "stream",
     "text": [
      "0.208333333333\n",
      "0.0\n"
     ]
    }
   ],
   "source": [
    "from sklearn.metrics import recall_score\n",
    "\n",
    "print(recall_score(y_test, y_pred))\n",
    "print(recall_score(y_test, np.zeros(len(y_pred))))"
   ]
  },
  {
   "cell_type": "code",
   "execution_count": 32,
   "metadata": {},
   "outputs": [
    {
     "name": "stdout",
     "output_type": "stream",
     "text": [
      "0.326086956522\n",
      "0.0\n"
     ]
    }
   ],
   "source": [
    "from sklearn.metrics import f1_score\n",
    "\n",
    "print(f1_score(y_test, y_pred))\n",
    "print(f1_score(y_test, np.zeros(len(y_pred))))"
   ]
  },
  {
   "cell_type": "markdown",
   "metadata": {},
   "source": [
    "## V pripade predikcie do viacerych tried ma zmysel ukazat vysledky pre jednotlive triedy (niektore metriky sa inak ani nedaju spocitat)\n",
    "\n",
    "![multiclass confusion matrix](img/multi-class-confusionmatrix.png)\n",
    "\n",
    "$$ precision A = \\frac{TP_A}{TP_A+FP_A} $$\n",
    "$$ = \\frac{TP_A}{Total predicted as A} $$\n",
    "$$ = \\frac{TP_A}{TotalPredicted_A} $$\n",
    "$$ = \\frac{30}{60} $$\n",
    "$$ = 0.5 $$\n",
    "\n",
    "recall sa pocita obdobne\n",
    "\n",
    "Ak chcete prezentovat jedno cislo, tak sa pocita priemerna hodnota. To ake vahy sa priradia jednotlivym triedam rozhoduje o vlastnostiach vysledneho cisla (teda pri nevyvazenych datasetoch).\n",
    "* Na zaklade vah / pocetnosti\n",
    "* Macro\n",
    "* Micro"
   ]
  },
  {
   "cell_type": "code",
   "execution_count": 33,
   "metadata": {},
   "outputs": [
    {
     "data": {
      "text/plain": [
       "<matplotlib.collections.PathCollection at 0x7fb5fcbbdd68>"
      ]
     },
     "execution_count": 33,
     "metadata": {},
     "output_type": "execute_result"
    },
    {
     "data": {
      "image/png": "[encoded data removed]",
      "text/plain": [
       "<matplotlib.figure.Figure at 0x7fb5ffd8dac8>"
      ]
     },
     "metadata": {},
     "output_type": "display_data"
    }
   ],
   "source": [
    "from sklearn.datasets import make_classification\n",
    "from sklearn.decomposition import PCA\n",
    "\n",
    "\n",
    "X, y = make_classification(n_classes=3, class_sep=2, weights=[0.9, 0.06, 0.04],\n",
    "                           n_informative=3, n_redundant=1, flip_y=0,\n",
    "                           n_features=20, n_clusters_per_class=1,\n",
    "                           n_samples=5000, random_state=10)\n",
    "\n",
    "pca = PCA(n_components=2)\n",
    "X_vis = pca.fit_transform(X)\n",
    "\n",
    "palette = seaborn.color_palette()\n",
    "\n",
    "plt.scatter(X_vis[y == 0, 0], X_vis[y == 0, 1], label=\"Class #0\", alpha=0.5,\n",
    "            facecolor=palette[0], linewidth=0.15)\n",
    "plt.scatter(X_vis[y == 1, 0], X_vis[y == 1, 1], label=\"Class #1\", alpha=0.5,\n",
    "            facecolor=palette[2], linewidth=0.15)\n",
    "plt.scatter(X_vis[y == 2, 0], X_vis[y == 2, 1], label=\"Class #2\", alpha=0.5,\n",
    "            facecolor=palette[3], linewidth=0.15)"
   ]
  },
  {
   "cell_type": "code",
   "execution_count": 34,
   "metadata": {
    "collapsed": true
   },
   "outputs": [],
   "source": [
    "X_train, X_test, y_train, y_test = train_test_split(X, y, test_size=0.3, random_state=0)"
   ]
  },
  {
   "cell_type": "code",
   "execution_count": 35,
   "metadata": {},
   "outputs": [
    {
     "data": {
      "text/plain": [
       "0.996"
      ]
     },
     "execution_count": 35,
     "metadata": {},
     "output_type": "execute_result"
    }
   ],
   "source": [
    "from sklearn.neighbors import KNeighborsClassifier\n",
    "\n",
    "cls = KNeighborsClassifier(3)\n",
    "model = cls.fit(X_train, y_train)\n",
    "y_pred = cls.predict(X_test)\n",
    "accuracy_score(y_test, y_pred)"
   ]
  },
  {
   "cell_type": "code",
   "execution_count": 36,
   "metadata": {},
   "outputs": [
    {
     "data": {
      "text/plain": [
       "array([[1328,    0,    1],\n",
       "       [   2,   97,    0],\n",
       "       [   3,    0,   69]])"
      ]
     },
     "execution_count": 36,
     "metadata": {},
     "output_type": "execute_result"
    }
   ],
   "source": [
    "confusion_matrix(y_test, y_pred) "
   ]
  },
  {
   "cell_type": "code",
   "execution_count": 37,
   "metadata": {},
   "outputs": [
    {
     "name": "stdout",
     "output_type": "stream",
     "text": [
      "             precision    recall  f1-score   support\n",
      "\n",
      "          0    0.99625   0.99925   0.99775      1329\n",
      "          1    1.00000   0.97980   0.98980        99\n",
      "          2    0.98571   0.95833   0.97183        72\n",
      "\n",
      "avg / total    0.99599   0.99600   0.99598      1500\n",
      "\n"
     ]
    }
   ],
   "source": [
    "from sklearn.metrics import classification_report\n",
    "print(classification_report(y_test, y_pred, digits=5))"
   ]
  },
  {
   "cell_type": "code",
   "execution_count": 38,
   "metadata": {},
   "outputs": [
    {
     "name": "stdout",
     "output_type": "stream",
     "text": [
      "0.995990954882\n",
      "0.996\n",
      "0.99398778266\n"
     ]
    }
   ],
   "source": [
    "print(precision_score(y_test, y_pred, average='weighted')) # pouziva sa vaha rovna poctu pozoorvani per trieda\n",
    "print(precision_score(y_test, y_pred, average='micro')) # pouziva sa globalny pocet TP, FN a FP\n",
    "print(precision_score(y_test, y_pred, average='macro')) # spocita presnost pre kazdu triedu zvlast a spocita ich nevazeny priemer"
   ]
  },
  {
   "cell_type": "markdown",
   "metadata": {},
   "source": [
    "Ak mame nevyvazeny dataset a zaujimaju nas aj triedy, ktore su malo pocetne, tak macro priemerovanie je velmi uzitocne\n",
    "\n",
    "Obdobny sposob vypoctu je aj pre dalsie metriky ako naporiklad Recall alebo F1"
   ]
  },
  {
   "cell_type": "markdown",
   "metadata": {},
   "source": [
    "## Dalsie metriky\n",
    "\n",
    "Roznych metrik existuje velmi vela a v roznych domenach sa pouzivaju rozne. Nemame teraz priestor si ich prechadzat, takze len zoznam zopar z nich:\n",
    "* Accuracy, Precission, Recall, F1\n",
    "* Sensitivity, Specificity a dalsie, ktore vypocitate z confusion matrix (matica zamien)\n",
    "* Logloss\n",
    "* ROC\n",
    "* AUC\n",
    "* Precission-recall curve"
   ]
  },
  {
   "cell_type": "markdown",
   "metadata": {},
   "source": [
    "# Hyperparameter tuning\n",
    "\n",
    "Rozne klasifikatory maju rozne parametre, ktore mozeme nastavovat a tak zlepsovat ich uspesnost na konkretnom datasete. Tieto sa volaju Hyperparametre.\n",
    "\n",
    "Mozeme ich skusat nastavovat manualne, intuitivne, alebo mozeme na to ist hrubou silou. \n",
    "\n",
    "## GridSearch - prehladavanie mriezky moznych parametrov"
   ]
  },
  {
   "cell_type": "code",
   "execution_count": 39,
   "metadata": {
    "collapsed": true
   },
   "outputs": [],
   "source": [
    "from sklearn import datasets\n",
    "\n",
    "iris = datasets.load_iris()\n",
    "X = iris.data\n",
    "y = iris.target\n",
    "n_samples, n_features = X.shape\n",
    "\n",
    "# Trosku zasumime tie data, aby to vyzeralo krajsie\n",
    "random_state = np.random.RandomState(0)\n",
    "X = np.c_[X, random_state.randn(n_samples, 200 * n_features)]"
   ]
  },
  {
   "cell_type": "code",
   "execution_count": 40,
   "metadata": {
    "collapsed": true
   },
   "outputs": [],
   "source": [
    "from sklearn.model_selection import GridSearchCV\n",
    "from sklearn.tree import DecisionTreeClassifier\n",
    "clf = DecisionTreeClassifier\n",
    "\n",
    "cv_params = {'max_depth': [1,2,3,4] + list(range(5,10,2)), 'criterion': ['gini', 'entropy'], 'min_samples_leaf': [1, 3] }\n",
    "ind_params = {'random_state': 0}\n",
    "optimization = GridSearchCV(clf(**ind_params), \n",
    "                            cv_params, \n",
    "                             scoring = 'f1_macro', cv = 5, n_jobs = -1, verbose=True) "
   ]
  },
  {
   "cell_type": "code",
   "execution_count": 41,
   "metadata": {},
   "outputs": [
    {
     "data": {
      "text/plain": [
       "(150, 4)"
      ]
     },
     "execution_count": 41,
     "metadata": {},
     "output_type": "execute_result"
    }
   ],
   "source": [
    "iris.data.shape # to znamena, ze hlbka stromu 4 by mala stacit. Uvidime co to spravi"
   ]
  },
  {
   "cell_type": "code",
   "execution_count": 42,
   "metadata": {},
   "outputs": [
    {
     "data": {
      "text/plain": [
       "(150, 804)"
      ]
     },
     "execution_count": 42,
     "metadata": {},
     "output_type": "execute_result"
    }
   ],
   "source": [
    "X.shape # uvidime, aky vplyv na vykon podla hlbky stromu bude mat ten sum "
   ]
  },
  {
   "cell_type": "code",
   "execution_count": 43,
   "metadata": {},
   "outputs": [
    {
     "name": "stderr",
     "output_type": "stream",
     "text": [
      "/usr/local/lib/python3.5/dist-packages/sklearn/cross_validation.py:41: DeprecationWarning: This module was deprecated in version 0.18 in favor of the model_selection module into which all the refactored classes and functions are moved. Also note that the interface of the new CV iterators are different from that of this module. This module will be removed in 0.20.\n",
      "  \"This module will be removed in 0.20.\", DeprecationWarning)\n",
      "/usr/local/lib/python3.5/dist-packages/sklearn/grid_search.py:42: DeprecationWarning: This module was deprecated in version 0.18 in favor of the model_selection module into which all the refactored classes and functions are moved. This module will be removed in 0.20.\n",
      "  DeprecationWarning)\n"
     ]
    },
    {
     "data": {
      "text/plain": [
       "[{'criterion': 'gini', 'max_depth': 1, 'min_samples_leaf': 1},\n",
       " {'criterion': 'gini', 'max_depth': 1, 'min_samples_leaf': 3},\n",
       " {'criterion': 'gini', 'max_depth': 2, 'min_samples_leaf': 1},\n",
       " {'criterion': 'gini', 'max_depth': 2, 'min_samples_leaf': 3},\n",
       " {'criterion': 'gini', 'max_depth': 3, 'min_samples_leaf': 1},\n",
       " {'criterion': 'gini', 'max_depth': 3, 'min_samples_leaf': 3},\n",
       " {'criterion': 'gini', 'max_depth': 4, 'min_samples_leaf': 1},\n",
       " {'criterion': 'gini', 'max_depth': 4, 'min_samples_leaf': 3},\n",
       " {'criterion': 'gini', 'max_depth': 5, 'min_samples_leaf': 1},\n",
       " {'criterion': 'gini', 'max_depth': 5, 'min_samples_leaf': 3},\n",
       " {'criterion': 'gini', 'max_depth': 7, 'min_samples_leaf': 1},\n",
       " {'criterion': 'gini', 'max_depth': 7, 'min_samples_leaf': 3},\n",
       " {'criterion': 'gini', 'max_depth': 9, 'min_samples_leaf': 1},\n",
       " {'criterion': 'gini', 'max_depth': 9, 'min_samples_leaf': 3},\n",
       " {'criterion': 'entropy', 'max_depth': 1, 'min_samples_leaf': 1},\n",
       " {'criterion': 'entropy', 'max_depth': 1, 'min_samples_leaf': 3},\n",
       " {'criterion': 'entropy', 'max_depth': 2, 'min_samples_leaf': 1},\n",
       " {'criterion': 'entropy', 'max_depth': 2, 'min_samples_leaf': 3},\n",
       " {'criterion': 'entropy', 'max_depth': 3, 'min_samples_leaf': 1},\n",
       " {'criterion': 'entropy', 'max_depth': 3, 'min_samples_leaf': 3},\n",
       " {'criterion': 'entropy', 'max_depth': 4, 'min_samples_leaf': 1},\n",
       " {'criterion': 'entropy', 'max_depth': 4, 'min_samples_leaf': 3},\n",
       " {'criterion': 'entropy', 'max_depth': 5, 'min_samples_leaf': 1},\n",
       " {'criterion': 'entropy', 'max_depth': 5, 'min_samples_leaf': 3},\n",
       " {'criterion': 'entropy', 'max_depth': 7, 'min_samples_leaf': 1},\n",
       " {'criterion': 'entropy', 'max_depth': 7, 'min_samples_leaf': 3},\n",
       " {'criterion': 'entropy', 'max_depth': 9, 'min_samples_leaf': 1},\n",
       " {'criterion': 'entropy', 'max_depth': 9, 'min_samples_leaf': 3}]"
      ]
     },
     "execution_count": 43,
     "metadata": {},
     "output_type": "execute_result"
    }
   ],
   "source": [
    "# Niez to spustime, tak si skusme najskor pozriet, ake vsetky kombinacie to bude skusat\n",
    "from sklearn.grid_search import ParameterGrid\n",
    "list(ParameterGrid(cv_params))"
   ]
  },
  {
   "cell_type": "code",
   "execution_count": 44,
   "metadata": {},
   "outputs": [
    {
     "name": "stdout",
     "output_type": "stream",
     "text": [
      "Fitting 5 folds for each of 28 candidates, totalling 140 fits\n",
      "CPU times: user 340 ms, sys: 272 ms, total: 612 ms\n",
      "Wall time: 1.55 s\n"
     ]
    },
    {
     "name": "stderr",
     "output_type": "stream",
     "text": [
      "[Parallel(n_jobs=-1)]: Done 140 out of 140 | elapsed:    1.2s finished\n"
     ]
    },
    {
     "data": {
      "text/plain": [
       "GridSearchCV(cv=5, error_score='raise',\n",
       "       estimator=DecisionTreeClassifier(class_weight=None, criterion='gini', max_depth=None,\n",
       "            max_features=None, max_leaf_nodes=None,\n",
       "            min_impurity_decrease=0.0, min_impurity_split=None,\n",
       "            min_samples_leaf=1, min_samples_split=2,\n",
       "            min_weight_fraction_leaf=0.0, presort=False, random_state=0,\n",
       "            splitter='best'),\n",
       "       fit_params=None, iid=True, n_jobs=-1,\n",
       "       param_grid={'criterion': ['gini', 'entropy'], 'min_samples_leaf': [1, 3], 'max_depth': [1, 2, 3, 4, 5, 7, 9]},\n",
       "       pre_dispatch='2*n_jobs', refit=True, return_train_score=True,\n",
       "       scoring='f1_macro', verbose=True)"
      ]
     },
     "execution_count": 44,
     "metadata": {},
     "output_type": "execute_result"
    }
   ],
   "source": [
    "%%time\n",
    "optimization.fit(X, y)"
   ]
  },
  {
   "cell_type": "code",
   "execution_count": 45,
   "metadata": {},
   "outputs": [
    {
     "name": "stderr",
     "output_type": "stream",
     "text": [
      "/usr/local/lib/python3.5/dist-packages/sklearn/model_selection/_search.py:747: DeprecationWarning: The grid_scores_ attribute was deprecated in version 0.18 in favor of the more elaborate cv_results_ attribute. The grid_scores_ attribute will not be available from 0.20\n",
      "  DeprecationWarning)\n"
     ]
    },
    {
     "data": {
      "text/plain": [
       "[mean: 0.55556, std: 0.00000, params: {'criterion': 'gini', 'min_samples_leaf': 1, 'max_depth': 1},\n",
       " mean: 0.55556, std: 0.00000, params: {'criterion': 'gini', 'min_samples_leaf': 3, 'max_depth': 1},\n",
       " mean: 0.93327, std: 0.04716, params: {'criterion': 'gini', 'min_samples_leaf': 1, 'max_depth': 2},\n",
       " mean: 0.93327, std: 0.04716, params: {'criterion': 'gini', 'min_samples_leaf': 3, 'max_depth': 2},\n",
       " mean: 0.90537, std: 0.07619, params: {'criterion': 'gini', 'min_samples_leaf': 1, 'max_depth': 3},\n",
       " mean: 0.91145, std: 0.06483, params: {'criterion': 'gini', 'min_samples_leaf': 3, 'max_depth': 3},\n",
       " mean: 0.89286, std: 0.07450, params: {'criterion': 'gini', 'min_samples_leaf': 1, 'max_depth': 4},\n",
       " mean: 0.90466, std: 0.06032, params: {'criterion': 'gini', 'min_samples_leaf': 3, 'max_depth': 4},\n",
       " mean: 0.89286, std: 0.07450, params: {'criterion': 'gini', 'min_samples_leaf': 1, 'max_depth': 5},\n",
       " mean: 0.90466, std: 0.06032, params: {'criterion': 'gini', 'min_samples_leaf': 3, 'max_depth': 5},\n",
       " mean: 0.89286, std: 0.07450, params: {'criterion': 'gini', 'min_samples_leaf': 1, 'max_depth': 7},\n",
       " mean: 0.90466, std: 0.06032, params: {'criterion': 'gini', 'min_samples_leaf': 3, 'max_depth': 7},\n",
       " mean: 0.89286, std: 0.07450, params: {'criterion': 'gini', 'min_samples_leaf': 1, 'max_depth': 9},\n",
       " mean: 0.90466, std: 0.06032, params: {'criterion': 'gini', 'min_samples_leaf': 3, 'max_depth': 9},\n",
       " mean: 0.55556, std: 0.00000, params: {'criterion': 'entropy', 'min_samples_leaf': 1, 'max_depth': 1},\n",
       " mean: 0.55556, std: 0.00000, params: {'criterion': 'entropy', 'min_samples_leaf': 3, 'max_depth': 1},\n",
       " mean: 0.93327, std: 0.04716, params: {'criterion': 'entropy', 'min_samples_leaf': 1, 'max_depth': 2},\n",
       " mean: 0.93327, std: 0.04716, params: {'criterion': 'entropy', 'min_samples_leaf': 3, 'max_depth': 2},\n",
       " mean: 0.88376, std: 0.08898, params: {'criterion': 'entropy', 'min_samples_leaf': 1, 'max_depth': 3},\n",
       " mean: 0.88983, std: 0.08110, params: {'criterion': 'entropy', 'min_samples_leaf': 3, 'max_depth': 3},\n",
       " mean: 0.90647, std: 0.07443, params: {'criterion': 'entropy', 'min_samples_leaf': 1, 'max_depth': 4},\n",
       " mean: 0.91138, std: 0.06126, params: {'criterion': 'entropy', 'min_samples_leaf': 3, 'max_depth': 4},\n",
       " mean: 0.90647, std: 0.07443, params: {'criterion': 'entropy', 'min_samples_leaf': 1, 'max_depth': 5},\n",
       " mean: 0.91138, std: 0.06126, params: {'criterion': 'entropy', 'min_samples_leaf': 3, 'max_depth': 5},\n",
       " mean: 0.90647, std: 0.07443, params: {'criterion': 'entropy', 'min_samples_leaf': 1, 'max_depth': 7},\n",
       " mean: 0.91138, std: 0.06126, params: {'criterion': 'entropy', 'min_samples_leaf': 3, 'max_depth': 7},\n",
       " mean: 0.90647, std: 0.07443, params: {'criterion': 'entropy', 'min_samples_leaf': 1, 'max_depth': 9},\n",
       " mean: 0.91138, std: 0.06126, params: {'criterion': 'entropy', 'min_samples_leaf': 3, 'max_depth': 9}]"
      ]
     },
     "execution_count": 45,
     "metadata": {},
     "output_type": "execute_result"
    }
   ],
   "source": [
    "optimization.grid_scores_"
   ]
  },
  {
   "cell_type": "code",
   "execution_count": 46,
   "metadata": {},
   "outputs": [
    {
     "name": "stderr",
     "output_type": "stream",
     "text": [
      "/usr/local/lib/python3.5/dist-packages/sklearn/model_selection/_search.py:747: DeprecationWarning: The grid_scores_ attribute was deprecated in version 0.18 in favor of the more elaborate cv_results_ attribute. The grid_scores_ attribute will not be available from 0.20\n",
      "  DeprecationWarning)\n"
     ]
    },
    {
     "data": {
      "text/plain": [
       "[mean: 0.93327, std: 0.04716, params: {'criterion': 'gini', 'min_samples_leaf': 1, 'max_depth': 2},\n",
       " mean: 0.93327, std: 0.04716, params: {'criterion': 'gini', 'min_samples_leaf': 3, 'max_depth': 2},\n",
       " mean: 0.93327, std: 0.04716, params: {'criterion': 'entropy', 'min_samples_leaf': 1, 'max_depth': 2},\n",
       " mean: 0.93327, std: 0.04716, params: {'criterion': 'entropy', 'min_samples_leaf': 3, 'max_depth': 2},\n",
       " mean: 0.91145, std: 0.06483, params: {'criterion': 'gini', 'min_samples_leaf': 3, 'max_depth': 3},\n",
       " mean: 0.91138, std: 0.06126, params: {'criterion': 'entropy', 'min_samples_leaf': 3, 'max_depth': 4},\n",
       " mean: 0.91138, std: 0.06126, params: {'criterion': 'entropy', 'min_samples_leaf': 3, 'max_depth': 5},\n",
       " mean: 0.91138, std: 0.06126, params: {'criterion': 'entropy', 'min_samples_leaf': 3, 'max_depth': 7},\n",
       " mean: 0.91138, std: 0.06126, params: {'criterion': 'entropy', 'min_samples_leaf': 3, 'max_depth': 9},\n",
       " mean: 0.90647, std: 0.07443, params: {'criterion': 'entropy', 'min_samples_leaf': 1, 'max_depth': 4},\n",
       " mean: 0.90647, std: 0.07443, params: {'criterion': 'entropy', 'min_samples_leaf': 1, 'max_depth': 5},\n",
       " mean: 0.90647, std: 0.07443, params: {'criterion': 'entropy', 'min_samples_leaf': 1, 'max_depth': 7},\n",
       " mean: 0.90647, std: 0.07443, params: {'criterion': 'entropy', 'min_samples_leaf': 1, 'max_depth': 9},\n",
       " mean: 0.90537, std: 0.07619, params: {'criterion': 'gini', 'min_samples_leaf': 1, 'max_depth': 3},\n",
       " mean: 0.90466, std: 0.06032, params: {'criterion': 'gini', 'min_samples_leaf': 3, 'max_depth': 4},\n",
       " mean: 0.90466, std: 0.06032, params: {'criterion': 'gini', 'min_samples_leaf': 3, 'max_depth': 5},\n",
       " mean: 0.90466, std: 0.06032, params: {'criterion': 'gini', 'min_samples_leaf': 3, 'max_depth': 7},\n",
       " mean: 0.90466, std: 0.06032, params: {'criterion': 'gini', 'min_samples_leaf': 3, 'max_depth': 9},\n",
       " mean: 0.89286, std: 0.07450, params: {'criterion': 'gini', 'min_samples_leaf': 1, 'max_depth': 4},\n",
       " mean: 0.89286, std: 0.07450, params: {'criterion': 'gini', 'min_samples_leaf': 1, 'max_depth': 5},\n",
       " mean: 0.89286, std: 0.07450, params: {'criterion': 'gini', 'min_samples_leaf': 1, 'max_depth': 7},\n",
       " mean: 0.89286, std: 0.07450, params: {'criterion': 'gini', 'min_samples_leaf': 1, 'max_depth': 9},\n",
       " mean: 0.88983, std: 0.08110, params: {'criterion': 'entropy', 'min_samples_leaf': 3, 'max_depth': 3},\n",
       " mean: 0.88376, std: 0.08898, params: {'criterion': 'entropy', 'min_samples_leaf': 1, 'max_depth': 3},\n",
       " mean: 0.55556, std: 0.00000, params: {'criterion': 'gini', 'min_samples_leaf': 1, 'max_depth': 1},\n",
       " mean: 0.55556, std: 0.00000, params: {'criterion': 'gini', 'min_samples_leaf': 3, 'max_depth': 1},\n",
       " mean: 0.55556, std: 0.00000, params: {'criterion': 'entropy', 'min_samples_leaf': 1, 'max_depth': 1},\n",
       " mean: 0.55556, std: 0.00000, params: {'criterion': 'entropy', 'min_samples_leaf': 3, 'max_depth': 1}]"
      ]
     },
     "execution_count": 46,
     "metadata": {},
     "output_type": "execute_result"
    }
   ],
   "source": [
    "sorted(optimization.grid_scores_, key=lambda x: x.mean_validation_score, reverse=True)"
   ]
  },
  {
   "cell_type": "code",
   "execution_count": 47,
   "metadata": {},
   "outputs": [
    {
     "data": {
      "text/plain": [
       "['best_estimator_', 'best_index_', 'best_params_', 'best_score_']"
      ]
     },
     "execution_count": 47,
     "metadata": {},
     "output_type": "execute_result"
    }
   ],
   "source": [
    "list(filter(lambda x: 'best' in x, dir(optimization)))"
   ]
  },
  {
   "cell_type": "code",
   "execution_count": 48,
   "metadata": {},
   "outputs": [
    {
     "data": {
      "text/plain": [
       "DecisionTreeClassifier(class_weight=None, criterion='gini', max_depth=2,\n",
       "            max_features=None, max_leaf_nodes=None,\n",
       "            min_impurity_decrease=0.0, min_impurity_split=None,\n",
       "            min_samples_leaf=1, min_samples_split=2,\n",
       "            min_weight_fraction_leaf=0.0, presort=False, random_state=0,\n",
       "            splitter='best')"
      ]
     },
     "execution_count": 48,
     "metadata": {},
     "output_type": "execute_result"
    }
   ],
   "source": [
    "optimization.best_estimator_"
   ]
  },
  {
   "cell_type": "markdown",
   "metadata": {},
   "source": [
    "# Velky pozor na pretrenovanie.\n",
    "\n",
    "# Prehladavanim (manualnym alebo automatickym) priestoru parametrov pridavam dalsi stupen trenovania. Mal by som mat dalsiu testovaciu vzorku, na ktorej ukazem ocakavanu uspesnost.\n",
    "Tym, ze hladam najlepsiu uspesnost na testovacej vzorke pridavam dalsiu uroven trenovania a hrozi mi problem optimalizacie na testovacie data (vid. leaderboard optimization). Ak ma zaujima ocakavana uspesnost na datach, ktore model nikdy nevidel, tak by som mal mat este jednu (validacnu) vzorku, na ktorej overim len ten uplne posledny model. Uspesnost na tejto vzorke bude uspesnost, ktoru budem moct ocakavat v produkcii, na datach, ktore model nikdy nevidel."
   ]
  },
  {
   "cell_type": "markdown",
   "metadata": {},
   "source": [
    "# Variance / Bias "
   ]
  },
  {
   "cell_type": "markdown",
   "metadata": {},
   "source": [
    "![bias-variance](img/bias-variance2.jpg)\n",
    "\n",
    "* **Bias** je chyba spôsobená aproximáciou zložitého problému jednoduchším modelom - nieco nam v tom modely chyba\n",
    "\n",
    "* **Variancia** nám hovorí, ako velmi by sa zmenil model, ak by sme použili inú trénovaciu sadu\n",
    "\n",
    "## Pekne sa to vizualizuje na regresii\n",
    "\n",
    "![overfit](img/overfit.png)\n",
    "\n",
    "* Ak máme velmi velky bias, tak to znamena, ze mame nedotrenovany model (underfitting) a nieco nam v nom chyba\n",
    "* Ak mame velku varianciu, tak to indikuje, ze sme model pretrenovali (overfitting)\n",
    "\n",
    "## Celkova chyba je zlozena z variancie a biasu\n",
    "\n",
    "Tieto dve chyby nevieme od seba oddelit, ale snazime sa najst bod, kde su v minime\n",
    "\n",
    "![bias-variance](img/bias-variance.png)\n",
    "\n",
    "## Snazime sa najst taku zlozitost modelu, aby som mal co najmensiu chybu na datach, ktore model nikdy nevidel\n",
    "\n",
    "![validation error](img/validation-error.png)\n",
    "\n",
    "\n",
    "zdroj obrazkov:\n",
    "* [http://puremonkey2010.blogspot.sk/2016/09/ml-bias-variance-and-overfitting.html](http://puremonkey2010.blogspot.sk/2016/09/ml-bias-variance-and-overfitting.html),\n",
    "* [https://datascience.stackexchange.com/questions/361/when-is-a-model-underfitted](https://datascience.stackexchange.com/questions/361/when-is-a-model-underfitted) a \n",
    "* [http://scott.fortmann-roe.com/docs/BiasVariance.html](http://scott.fortmann-roe.com/docs/BiasVariance.html)"
   ]
  },
  {
   "cell_type": "markdown",
   "metadata": {},
   "source": [
    "# Existuju aj dalsie sposoby ako kontrolovat varianciu a bias\n",
    "\n",
    "## Ucenie suborom metod\n",
    "* **Bagging** sa pouziva na znizenie variancie\n",
    "* **Boosting** sa pouziva na znizenie biasu\n",
    "\n",
    "## Zjednodusenie modelu\n",
    "* Vyber atributov\n",
    "* Regularizacia\n",
    "* Orezavanie stromov"
   ]
  },
  {
   "cell_type": "code",
   "execution_count": null,
   "metadata": {
    "collapsed": true
   },
   "outputs": [],
   "source": []
  }
 ],
 "metadata": {
  "kernelspec": {
   "display_name": "Python 3",
   "language": "python",
   "name": "python3"
  },
  "language_info": {
   "codemirror_mode": {
    "name": "ipython",
    "version": 3
   },
   "file_extension": ".py",
   "mimetype": "text/x-python",
   "name": "python",
   "nbconvert_exporter": "python",
   "pygments_lexer": "ipython3",
   "version": "3.5.2"
  }
 },
 "nbformat": 4,
 "nbformat_minor": 2
}
