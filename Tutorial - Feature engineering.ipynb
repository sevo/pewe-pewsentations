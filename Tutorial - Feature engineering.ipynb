{
 "cells": [
  {
   "cell_type": "markdown",
   "metadata": {
    "slideshow": {
     "slide_type": "slide"
    }
   },
   "source": [
    "# Feature engineering - part 2\n",
    "\n",
    "## Jakub Ševcech"
   ]
  },
  {
   "cell_type": "markdown",
   "metadata": {
    "slideshow": {
     "slide_type": "slide"
    }
   },
   "source": [
    "# Obsah\n",
    "\n",
    "> ## Praca s casom a datumami\n",
    "> ## Zoskupovanie viacerych pozorovani\n",
    "> ## Numericke atributy\n",
    ">> ### Normalizacia\n",
    ">> ### Vyrabanie atributov kombinovanim"
   ]
  },
  {
   "cell_type": "markdown",
   "metadata": {
    "slideshow": {
     "slide_type": "slide"
    }
   },
   "source": [
    "# Suvisiace temy, ktore dnes nestihame\n",
    "\n",
    "> ## Transformacia kategorickych atributov na numericke\n",
    "> ## Vyber atributov\n",
    "> ## Extrakcia atributov\n",
    "> ## Nevyvazene datasety"
   ]
  },
  {
   "cell_type": "markdown",
   "metadata": {
    "slideshow": {
     "slide_type": "slide"
    }
   },
   "source": [
    "Vycerpavajuci zoznam mnozstva veci, co sa da robit na pripravu dat a na feature engineering najdete tu: http://www.datasciencecentral.com/profiles/blogs/feature-engineering-data-scientist-s-secret-sauce-1\n",
    "\n",
    "Nanestastie je to len zoznam\n",
    "\n",
    "Celkom pekny zoznam krokov a aj metod je tu: http://machinelearningmastery.com/discover-feature-engineering-how-to-engineer-features-and-how-to-get-good-at-it/\n",
    "\n",
    "Zopar najcastejsie pouzivanych veci z toho vyberiem a ukazem na co je to dobre"
   ]
  },
  {
   "cell_type": "code",
   "execution_count": 1,
   "metadata": {
    "collapsed": true,
    "slideshow": {
     "slide_type": "slide"
    }
   },
   "outputs": [],
   "source": [
    "%matplotlib inline\n",
    "import pandas as pd\n",
    "import numpy as np\n",
    "import matplotlib.pyplot as plt\n",
    "import seaborn\n",
    "\n",
    "plt.rcParams['figure.figsize'] = 9, 6\n",
    "from IPython.display import Image"
   ]
  },
  {
   "cell_type": "markdown",
   "metadata": {
    "slideshow": {
     "slide_type": "slide"
    }
   },
   "source": [
    "# Najskor sa skuste pozriet do dat a skusit tam najst nejake vlastnosti sami."
   ]
  },
  {
   "cell_type": "markdown",
   "metadata": {
    "slideshow": {
     "slide_type": "slide"
    }
   },
   "source": [
    "# Napriklad rozbite atributy, kde sa v jednom nachadza viacero hodnot.\n",
    "Priklad na datach o potopeni Titanicu\n",
    "https://www.kaggle.com/c/titanic"
   ]
  },
  {
   "cell_type": "code",
   "execution_count": 2,
   "metadata": {
    "collapsed": false,
    "slideshow": {
     "slide_type": "slide"
    }
   },
   "outputs": [
    {
     "data": {
      "text/html": [
       "<div>\n",
       "<table border=\"1\" class=\"dataframe\">\n",
       "  <thead>\n",
       "    <tr style=\"text-align: right;\">\n",
       "      <th></th>\n",
       "      <th>PassengerId</th>\n",
       "      <th>Survived</th>\n",
       "      <th>Pclass</th>\n",
       "      <th>Name</th>\n",
       "      <th>Sex</th>\n",
       "      <th>Age</th>\n",
       "      <th>SibSp</th>\n",
       "      <th>Parch</th>\n",
       "      <th>Ticket</th>\n",
       "      <th>Fare</th>\n",
       "      <th>Cabin</th>\n",
       "      <th>Embarked</th>\n",
       "    </tr>\n",
       "  </thead>\n",
       "  <tbody>\n",
       "    <tr>\n",
       "      <th>0</th>\n",
       "      <td>1</td>\n",
       "      <td>0</td>\n",
       "      <td>3</td>\n",
       "      <td>Braund, Mr. Owen Harris</td>\n",
       "      <td>male</td>\n",
       "      <td>22</td>\n",
       "      <td>1</td>\n",
       "      <td>0</td>\n",
       "      <td>A/5 21171</td>\n",
       "      <td>7.2500</td>\n",
       "      <td>NaN</td>\n",
       "      <td>S</td>\n",
       "    </tr>\n",
       "    <tr>\n",
       "      <th>1</th>\n",
       "      <td>2</td>\n",
       "      <td>1</td>\n",
       "      <td>1</td>\n",
       "      <td>Cumings, Mrs. John Bradley (Florence Briggs Th...</td>\n",
       "      <td>female</td>\n",
       "      <td>38</td>\n",
       "      <td>1</td>\n",
       "      <td>0</td>\n",
       "      <td>PC 17599</td>\n",
       "      <td>71.2833</td>\n",
       "      <td>C85</td>\n",
       "      <td>C</td>\n",
       "    </tr>\n",
       "    <tr>\n",
       "      <th>2</th>\n",
       "      <td>3</td>\n",
       "      <td>1</td>\n",
       "      <td>3</td>\n",
       "      <td>Heikkinen, Miss. Laina</td>\n",
       "      <td>female</td>\n",
       "      <td>26</td>\n",
       "      <td>0</td>\n",
       "      <td>0</td>\n",
       "      <td>STON/O2. 3101282</td>\n",
       "      <td>7.9250</td>\n",
       "      <td>NaN</td>\n",
       "      <td>S</td>\n",
       "    </tr>\n",
       "    <tr>\n",
       "      <th>3</th>\n",
       "      <td>4</td>\n",
       "      <td>1</td>\n",
       "      <td>1</td>\n",
       "      <td>Futrelle, Mrs. Jacques Heath (Lily May Peel)</td>\n",
       "      <td>female</td>\n",
       "      <td>35</td>\n",
       "      <td>1</td>\n",
       "      <td>0</td>\n",
       "      <td>113803</td>\n",
       "      <td>53.1000</td>\n",
       "      <td>C123</td>\n",
       "      <td>S</td>\n",
       "    </tr>\n",
       "    <tr>\n",
       "      <th>4</th>\n",
       "      <td>5</td>\n",
       "      <td>0</td>\n",
       "      <td>3</td>\n",
       "      <td>Allen, Mr. William Henry</td>\n",
       "      <td>male</td>\n",
       "      <td>35</td>\n",
       "      <td>0</td>\n",
       "      <td>0</td>\n",
       "      <td>373450</td>\n",
       "      <td>8.0500</td>\n",
       "      <td>NaN</td>\n",
       "      <td>S</td>\n",
       "    </tr>\n",
       "  </tbody>\n",
       "</table>\n",
       "</div>"
      ],
      "text/plain": [
       "   PassengerId  Survived  Pclass  \\\n",
       "0            1         0       3   \n",
       "1            2         1       1   \n",
       "2            3         1       3   \n",
       "3            4         1       1   \n",
       "4            5         0       3   \n",
       "\n",
       "                                                Name     Sex  Age  SibSp  \\\n",
       "0                            Braund, Mr. Owen Harris    male   22      1   \n",
       "1  Cumings, Mrs. John Bradley (Florence Briggs Th...  female   38      1   \n",
       "2                             Heikkinen, Miss. Laina  female   26      0   \n",
       "3       Futrelle, Mrs. Jacques Heath (Lily May Peel)  female   35      1   \n",
       "4                           Allen, Mr. William Henry    male   35      0   \n",
       "\n",
       "   Parch            Ticket     Fare Cabin Embarked  \n",
       "0      0         A/5 21171   7.2500   NaN        S  \n",
       "1      0          PC 17599  71.2833   C85        C  \n",
       "2      0  STON/O2. 3101282   7.9250   NaN        S  \n",
       "3      0            113803  53.1000  C123        S  \n",
       "4      0            373450   8.0500   NaN        S  "
      ]
     },
     "execution_count": 2,
     "metadata": {},
     "output_type": "execute_result"
    }
   ],
   "source": [
    "titanic = pd.read_csv('titanic/train.csv')\n",
    "titanic.head()"
   ]
  },
  {
   "cell_type": "code",
   "execution_count": 3,
   "metadata": {
    "collapsed": false,
    "slideshow": {
     "slide_type": "slide"
    }
   },
   "outputs": [
    {
     "data": {
      "text/plain": [
       "0                          [Braund,  Mr,  Owen Harris]\n",
       "1    [Cumings,  Mrs,  John Bradley (Florence Briggs...\n",
       "2                           [Heikkinen,  Miss,  Laina]\n",
       "3     [Futrelle,  Mrs,  Jacques Heath (Lily May Peel)]\n",
       "4                         [Allen,  Mr,  William Henry]\n",
       "5                                 [Moran,  Mr,  James]\n",
       "6                          [McCarthy,  Mr,  Timothy J]\n",
       "7                   [Palsson,  Master,  Gosta Leonard]\n",
       "8    [Johnson,  Mrs,  Oscar W (Elisabeth Vilhelmina...\n",
       "9              [Nasser,  Mrs,  Nicholas (Adele Achem)]\n",
       "Name: Name, dtype: object"
      ]
     },
     "execution_count": 3,
     "metadata": {},
     "output_type": "execute_result"
    }
   ],
   "source": [
    "import re\n",
    "titanic.Name.apply(lambda x: re.split('[,.]', x)).head(10)"
   ]
  },
  {
   "cell_type": "code",
   "execution_count": 4,
   "metadata": {
    "collapsed": false,
    "slideshow": {
     "slide_type": "slide"
    }
   },
   "outputs": [
    {
     "data": {
      "text/plain": [
       "0                            [Braund, Mr, Owen Harris]\n",
       "1    [Cumings, Mrs, John Bradley (Florence Briggs T...\n",
       "2                             [Heikkinen, Miss, Laina]\n",
       "3       [Futrelle, Mrs, Jacques Heath (Lily May Peel)]\n",
       "4                           [Allen, Mr, William Henry]\n",
       "5                                   [Moran, Mr, James]\n",
       "6                            [McCarthy, Mr, Timothy J]\n",
       "7                     [Palsson, Master, Gosta Leonard]\n",
       "8    [Johnson, Mrs, Oscar W (Elisabeth Vilhelmina B...\n",
       "9                [Nasser, Mrs, Nicholas (Adele Achem)]\n",
       "Name: Name, dtype: object"
      ]
     },
     "execution_count": 4,
     "metadata": {},
     "output_type": "execute_result"
    }
   ],
   "source": [
    "titanic.Name.apply(lambda x: re.split('\\s*[,.]\\s*', x)).head(10)"
   ]
  },
  {
   "cell_type": "code",
   "execution_count": 5,
   "metadata": {
    "collapsed": false,
    "slideshow": {
     "slide_type": "slide"
    }
   },
   "outputs": [
    {
     "data": {
      "text/plain": [
       "{'Capt',\n",
       " 'Col',\n",
       " 'Don',\n",
       " 'Dr',\n",
       " 'Jonkheer',\n",
       " 'Lady',\n",
       " 'Major',\n",
       " 'Master',\n",
       " 'Miss',\n",
       " 'Mlle',\n",
       " 'Mme',\n",
       " 'Mr',\n",
       " 'Mrs',\n",
       " 'Ms',\n",
       " 'Rev',\n",
       " 'Sir',\n",
       " 'the Countess'}"
      ]
     },
     "execution_count": 5,
     "metadata": {},
     "output_type": "execute_result"
    }
   ],
   "source": [
    "set(titanic.Name.apply(lambda x: re.split('\\s*[,.]\\s*', x)[1]))"
   ]
  },
  {
   "cell_type": "code",
   "execution_count": 8,
   "metadata": {
    "collapsed": false,
    "slideshow": {
     "slide_type": "slide"
    }
   },
   "outputs": [
    {
     "data": {
      "text/plain": [
       "0        Mr\n",
       "1       Mrs\n",
       "2      Miss\n",
       "3       Mrs\n",
       "4        Mr\n",
       "5        Mr\n",
       "6        Mr\n",
       "7    Master\n",
       "8       Mrs\n",
       "9       Mrs\n",
       "Name: title, dtype: object"
      ]
     },
     "execution_count": 8,
     "metadata": {},
     "output_type": "execute_result"
    }
   ],
   "source": [
    "titanic['title'] = titanic.Name.apply(lambda x: re.split('\\s*[,.]\\s*', x)[1])\n",
    "titanic.title.head(10)"
   ]
  },
  {
   "cell_type": "code",
   "execution_count": 9,
   "metadata": {
    "collapsed": false,
    "slideshow": {
     "slide_type": "slide"
    }
   },
   "outputs": [
    {
     "data": {
      "text/plain": [
       "Mr              517\n",
       "Miss            182\n",
       "Mrs             125\n",
       "Master           40\n",
       "Dr                7\n",
       "Rev               6\n",
       "Major             2\n",
       "Col               2\n",
       "Mlle              2\n",
       "Jonkheer          1\n",
       "Ms                1\n",
       "Sir               1\n",
       "Capt              1\n",
       "Don               1\n",
       "Mme               1\n",
       "the Countess      1\n",
       "Lady              1\n",
       "Name: title, dtype: int64"
      ]
     },
     "execution_count": 9,
     "metadata": {},
     "output_type": "execute_result"
    }
   ],
   "source": [
    "titanic.title.value_counts()"
   ]
  },
  {
   "cell_type": "markdown",
   "metadata": {
    "slideshow": {
     "slide_type": "slide"
    }
   },
   "source": [
    "# Teraz je tu zopar titulov, ktorych pocty su fakt zanedbatelne a ten model by sa ich tazko ucil. Hrozilo by praveze, ze sa preuci\n",
    "\n",
    "# Chcelo by to aby sa pospajali dohromady.\n",
    "\n",
    "Napriklad Mlle = Mademoiselle = Miss"
   ]
  },
  {
   "cell_type": "code",
   "execution_count": 10,
   "metadata": {
    "collapsed": true,
    "slideshow": {
     "slide_type": "slide"
    }
   },
   "outputs": [],
   "source": [
    "titanic.loc[titanic.title == 'Mlle', 'title'] = 'Miss'\n",
    "titanic.loc[titanic.title == 'Mme', 'title'] = 'Mrs'\n",
    "titanic.loc[titanic.title.isin(['Capt', 'Don', 'Major']), 'title'] = 'Sir'\n",
    "titanic.loc[titanic.title.isin(['Dona', 'Lady', 'the Countess', 'Jonkheer']), 'title'] = 'Lady'"
   ]
  },
  {
   "cell_type": "code",
   "execution_count": 11,
   "metadata": {
    "collapsed": false,
    "slideshow": {
     "slide_type": "slide"
    }
   },
   "outputs": [
    {
     "data": {
      "text/plain": [
       "<matplotlib.axes._subplots.AxesSubplot at 0x7f9a645dcf28>"
      ]
     },
     "execution_count": 11,
     "metadata": {},
     "output_type": "execute_result"
    },
    {
     "data": {
      "image/png": "[encoded data removed]",
      "text/plain": [
       "<matplotlib.figure.Figure at 0x7f9a6456b0b8>"
      ]
     },
     "metadata": {},
     "output_type": "display_data"
    }
   ],
   "source": [
    "titanic.groupby('title').size().plot(kind='bar')data:image/png;base64,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"
   ]
  },
  {
   "cell_type": "markdown",
   "metadata": {
    "slideshow": {
     "slide_type": "slide"
    }
   },
   "source": [
    "# Velmi pekna ukazka predspracovania na titanic datasete je tu: http://trevorstephens.com/kaggle-titanic-tutorial/r-part-4-feature-engineering/"
   ]
  },
  {
   "cell_type": "markdown",
   "metadata": {
    "slideshow": {
     "slide_type": "slide"
    }
   },
   "source": [
    "# Niekedy ma zmysel upravovat nielen nezavisle premenne (atributy), ale aj tie zavisle (predikovana hodnota)"
   ]
  },
  {
   "cell_type": "markdown",
   "metadata": {
    "slideshow": {
     "slide_type": "slide"
    }
   },
   "source": [
    "Napriklad pri predikovani casu pristania lietadla nieje uplne dobry napad predikovat ten cas, ale skor dobu letu a potom ju len pripocitat k casu vzlietnutie"
   ]
  },
  {
   "cell_type": "code",
   "execution_count": 12,
   "metadata": {
    "collapsed": false,
    "slideshow": {
     "slide_type": "slide"
    }
   },
   "outputs": [
    {
     "data": {
      "text/html": [
       "\n",
       "        <iframe\n",
       "            width=\"700\"\n",
       "            height=\"350\"\n",
       "            src=\"http://www.datasciencecentral.com/profiles/blogs/predicting-flights-delay-using-supervised-learning\"\n",
       "            frameborder=\"0\"\n",
       "            allowfullscreen\n",
       "        ></iframe>\n",
       "        "
      ],
      "text/plain": [
       "<IPython.lib.display.IFrame at 0x7f9a645dce80>"
      ]
     },
     "execution_count": 12,
     "metadata": {},
     "output_type": "execute_result"
    }
   ],
   "source": [
    "url = 'http://www.datasciencecentral.com/profiles/blogs/predicting-flights-delay-using-supervised-learning'\n",
    "from IPython.display import IFrame\n",
    "IFrame(url, width=700, height=350)"
   ]
  },
  {
   "cell_type": "markdown",
   "metadata": {
    "slideshow": {
     "slide_type": "slide"
    }
   },
   "source": [
    "# Praca s casom a datumami"
   ]
  },
  {
   "cell_type": "code",
   "execution_count": 13,
   "metadata": {
    "collapsed": false,
    "slideshow": {
     "slide_type": "slide"
    }
   },
   "outputs": [
    {
     "data": {
      "text/html": [
       "<div>\n",
       "<table border=\"1\" class=\"dataframe\">\n",
       "  <thead>\n",
       "    <tr style=\"text-align: right;\">\n",
       "      <th></th>\n",
       "      <th>date</th>\n",
       "      <th>Temperature</th>\n",
       "      <th>Humidity</th>\n",
       "      <th>Light</th>\n",
       "      <th>CO2</th>\n",
       "      <th>HumidityRatio</th>\n",
       "      <th>Occupancy</th>\n",
       "    </tr>\n",
       "  </thead>\n",
       "  <tbody>\n",
       "    <tr>\n",
       "      <th>1</th>\n",
       "      <td>2015-02-04 17:51:00</td>\n",
       "      <td>23.18</td>\n",
       "      <td>27.2720</td>\n",
       "      <td>426.0</td>\n",
       "      <td>721.25</td>\n",
       "      <td>0.004793</td>\n",
       "      <td>1</td>\n",
       "    </tr>\n",
       "    <tr>\n",
       "      <th>2</th>\n",
       "      <td>2015-02-04 17:51:59</td>\n",
       "      <td>23.15</td>\n",
       "      <td>27.2675</td>\n",
       "      <td>429.5</td>\n",
       "      <td>714.00</td>\n",
       "      <td>0.004783</td>\n",
       "      <td>1</td>\n",
       "    </tr>\n",
       "    <tr>\n",
       "      <th>3</th>\n",
       "      <td>2015-02-04 17:53:00</td>\n",
       "      <td>23.15</td>\n",
       "      <td>27.2450</td>\n",
       "      <td>426.0</td>\n",
       "      <td>713.50</td>\n",
       "      <td>0.004779</td>\n",
       "      <td>1</td>\n",
       "    </tr>\n",
       "    <tr>\n",
       "      <th>4</th>\n",
       "      <td>2015-02-04 17:54:00</td>\n",
       "      <td>23.15</td>\n",
       "      <td>27.2000</td>\n",
       "      <td>426.0</td>\n",
       "      <td>708.25</td>\n",
       "      <td>0.004772</td>\n",
       "      <td>1</td>\n",
       "    </tr>\n",
       "    <tr>\n",
       "      <th>5</th>\n",
       "      <td>2015-02-04 17:55:00</td>\n",
       "      <td>23.10</td>\n",
       "      <td>27.2000</td>\n",
       "      <td>426.0</td>\n",
       "      <td>704.50</td>\n",
       "      <td>0.004757</td>\n",
       "      <td>1</td>\n",
       "    </tr>\n",
       "  </tbody>\n",
       "</table>\n",
       "</div>"
      ],
      "text/plain": [
       "                 date  Temperature  Humidity  Light     CO2  HumidityRatio  \\\n",
       "1 2015-02-04 17:51:00        23.18   27.2720  426.0  721.25       0.004793   \n",
       "2 2015-02-04 17:51:59        23.15   27.2675  429.5  714.00       0.004783   \n",
       "3 2015-02-04 17:53:00        23.15   27.2450  426.0  713.50       0.004779   \n",
       "4 2015-02-04 17:54:00        23.15   27.2000  426.0  708.25       0.004772   \n",
       "5 2015-02-04 17:55:00        23.10   27.2000  426.0  704.50       0.004757   \n",
       "\n",
       "   Occupancy  \n",
       "1          1  \n",
       "2          1  \n",
       "3          1  \n",
       "4          1  \n",
       "5          1  "
      ]
     },
     "execution_count": 13,
     "metadata": {},
     "output_type": "execute_result"
    }
   ],
   "source": [
    "# https://archive.ics.uci.edu/ml/datasets/Occupancy+Detection+#\n",
    "# klasifikacia, ci je miestnost obsadena alebo nie na zaklade udajov zo senzorov\n",
    "occupancy = pd.read_csv('occupancy/datatraining.txt', sep=',')\n",
    "date = pd.to_datetime(occupancy.date, format='%Y-%m-%d %H:%M:%S')\n",
    "occupancy.date = date\n",
    "occupancy.head()"
   ]
  },
  {
   "cell_type": "markdown",
   "metadata": {
    "slideshow": {
     "slide_type": "slide"
    }
   },
   "source": [
    "# Cas ako taky velmi vyuzit neviete. To rozlysenie je prilis drobne a ziadny model sa z toho nic nenauci.\n",
    "\n",
    "# Potrebovali by sme ten datum nejak predspracovat."
   ]
  },
  {
   "cell_type": "markdown",
   "metadata": {
    "slideshow": {
     "slide_type": "slide"
    }
   },
   "source": [
    "# Identifikator dni by nam uz mohol pomoct. Granularita je podstatne hrubsia a model by to uz mohol vediet vyuzit."
   ]
  },
  {
   "cell_type": "code",
   "execution_count": 14,
   "metadata": {
    "collapsed": false,
    "slideshow": {
     "slide_type": "slide"
    }
   },
   "outputs": [
    {
     "data": {
      "text/html": [
       "<div>\n",
       "<table border=\"1\" class=\"dataframe\">\n",
       "  <thead>\n",
       "    <tr style=\"text-align: right;\">\n",
       "      <th></th>\n",
       "      <th>date</th>\n",
       "      <th>Temperature</th>\n",
       "      <th>Humidity</th>\n",
       "      <th>Light</th>\n",
       "      <th>CO2</th>\n",
       "      <th>HumidityRatio</th>\n",
       "      <th>Occupancy</th>\n",
       "      <th>weekday</th>\n",
       "    </tr>\n",
       "  </thead>\n",
       "  <tbody>\n",
       "    <tr>\n",
       "      <th>1</th>\n",
       "      <td>2015-02-04 17:51:00</td>\n",
       "      <td>23.18</td>\n",
       "      <td>27.2720</td>\n",
       "      <td>426.0</td>\n",
       "      <td>721.25</td>\n",
       "      <td>0.004793</td>\n",
       "      <td>1</td>\n",
       "      <td>2</td>\n",
       "    </tr>\n",
       "    <tr>\n",
       "      <th>2</th>\n",
       "      <td>2015-02-04 17:51:59</td>\n",
       "      <td>23.15</td>\n",
       "      <td>27.2675</td>\n",
       "      <td>429.5</td>\n",
       "      <td>714.00</td>\n",
       "      <td>0.004783</td>\n",
       "      <td>1</td>\n",
       "      <td>2</td>\n",
       "    </tr>\n",
       "    <tr>\n",
       "      <th>3</th>\n",
       "      <td>2015-02-04 17:53:00</td>\n",
       "      <td>23.15</td>\n",
       "      <td>27.2450</td>\n",
       "      <td>426.0</td>\n",
       "      <td>713.50</td>\n",
       "      <td>0.004779</td>\n",
       "      <td>1</td>\n",
       "      <td>2</td>\n",
       "    </tr>\n",
       "    <tr>\n",
       "      <th>4</th>\n",
       "      <td>2015-02-04 17:54:00</td>\n",
       "      <td>23.15</td>\n",
       "      <td>27.2000</td>\n",
       "      <td>426.0</td>\n",
       "      <td>708.25</td>\n",
       "      <td>0.004772</td>\n",
       "      <td>1</td>\n",
       "      <td>2</td>\n",
       "    </tr>\n",
       "    <tr>\n",
       "      <th>5</th>\n",
       "      <td>2015-02-04 17:55:00</td>\n",
       "      <td>23.10</td>\n",
       "      <td>27.2000</td>\n",
       "      <td>426.0</td>\n",
       "      <td>704.50</td>\n",
       "      <td>0.004757</td>\n",
       "      <td>1</td>\n",
       "      <td>2</td>\n",
       "    </tr>\n",
       "  </tbody>\n",
       "</table>\n",
       "</div>"
      ],
      "text/plain": [
       "                 date  Temperature  Humidity  Light     CO2  HumidityRatio  \\\n",
       "1 2015-02-04 17:51:00        23.18   27.2720  426.0  721.25       0.004793   \n",
       "2 2015-02-04 17:51:59        23.15   27.2675  429.5  714.00       0.004783   \n",
       "3 2015-02-04 17:53:00        23.15   27.2450  426.0  713.50       0.004779   \n",
       "4 2015-02-04 17:54:00        23.15   27.2000  426.0  708.25       0.004772   \n",
       "5 2015-02-04 17:55:00        23.10   27.2000  426.0  704.50       0.004757   \n",
       "\n",
       "   Occupancy  weekday  \n",
       "1          1        2  \n",
       "2          1        2  \n",
       "3          1        2  \n",
       "4          1        2  \n",
       "5          1        2  "
      ]
     },
     "execution_count": 14,
     "metadata": {},
     "output_type": "execute_result"
    }
   ],
   "source": [
    "occupancy['weekday'] = occupancy.date.dt.weekday\n",
    "occupancy.head()"
   ]
  },
  {
   "cell_type": "markdown",
   "metadata": {
    "slideshow": {
     "slide_type": "slide"
    }
   },
   "source": [
    "# Co ked sa dozvieme, ze cez vikend sa v tej miestnosti nekuri a rozhadzuje nam to teplotu v nameranych datach?"
   ]
  },
  {
   "cell_type": "code",
   "execution_count": 15,
   "metadata": {
    "collapsed": false,
    "slideshow": {
     "slide_type": "slide"
    }
   },
   "outputs": [
    {
     "data": {
      "text/html": [
       "<div>\n",
       "<table border=\"1\" class=\"dataframe\">\n",
       "  <thead>\n",
       "    <tr style=\"text-align: right;\">\n",
       "      <th></th>\n",
       "      <th>date</th>\n",
       "      <th>Temperature</th>\n",
       "      <th>Humidity</th>\n",
       "      <th>Light</th>\n",
       "      <th>CO2</th>\n",
       "      <th>HumidityRatio</th>\n",
       "      <th>Occupancy</th>\n",
       "      <th>weekday</th>\n",
       "      <th>weekend</th>\n",
       "    </tr>\n",
       "  </thead>\n",
       "  <tbody>\n",
       "    <tr>\n",
       "      <th>1</th>\n",
       "      <td>2015-02-04 17:51:00</td>\n",
       "      <td>23.18</td>\n",
       "      <td>27.2720</td>\n",
       "      <td>426.0</td>\n",
       "      <td>721.25</td>\n",
       "      <td>0.004793</td>\n",
       "      <td>1</td>\n",
       "      <td>2</td>\n",
       "      <td>False</td>\n",
       "    </tr>\n",
       "    <tr>\n",
       "      <th>2</th>\n",
       "      <td>2015-02-04 17:51:59</td>\n",
       "      <td>23.15</td>\n",
       "      <td>27.2675</td>\n",
       "      <td>429.5</td>\n",
       "      <td>714.00</td>\n",
       "      <td>0.004783</td>\n",
       "      <td>1</td>\n",
       "      <td>2</td>\n",
       "      <td>False</td>\n",
       "    </tr>\n",
       "    <tr>\n",
       "      <th>3</th>\n",
       "      <td>2015-02-04 17:53:00</td>\n",
       "      <td>23.15</td>\n",
       "      <td>27.2450</td>\n",
       "      <td>426.0</td>\n",
       "      <td>713.50</td>\n",
       "      <td>0.004779</td>\n",
       "      <td>1</td>\n",
       "      <td>2</td>\n",
       "      <td>False</td>\n",
       "    </tr>\n",
       "    <tr>\n",
       "      <th>4</th>\n",
       "      <td>2015-02-04 17:54:00</td>\n",
       "      <td>23.15</td>\n",
       "      <td>27.2000</td>\n",
       "      <td>426.0</td>\n",
       "      <td>708.25</td>\n",
       "      <td>0.004772</td>\n",
       "      <td>1</td>\n",
       "      <td>2</td>\n",
       "      <td>False</td>\n",
       "    </tr>\n",
       "    <tr>\n",
       "      <th>5</th>\n",
       "      <td>2015-02-04 17:55:00</td>\n",
       "      <td>23.10</td>\n",
       "      <td>27.2000</td>\n",
       "      <td>426.0</td>\n",
       "      <td>704.50</td>\n",
       "      <td>0.004757</td>\n",
       "      <td>1</td>\n",
       "      <td>2</td>\n",
       "      <td>False</td>\n",
       "    </tr>\n",
       "  </tbody>\n",
       "</table>\n",
       "</div>"
      ],
      "text/plain": [
       "                 date  Temperature  Humidity  Light     CO2  HumidityRatio  \\\n",
       "1 2015-02-04 17:51:00        23.18   27.2720  426.0  721.25       0.004793   \n",
       "2 2015-02-04 17:51:59        23.15   27.2675  429.5  714.00       0.004783   \n",
       "3 2015-02-04 17:53:00        23.15   27.2450  426.0  713.50       0.004779   \n",
       "4 2015-02-04 17:54:00        23.15   27.2000  426.0  708.25       0.004772   \n",
       "5 2015-02-04 17:55:00        23.10   27.2000  426.0  704.50       0.004757   \n",
       "\n",
       "   Occupancy  weekday weekend  \n",
       "1          1        2   False  \n",
       "2          1        2   False  \n",
       "3          1        2   False  \n",
       "4          1        2   False  \n",
       "5          1        2   False  "
      ]
     },
     "execution_count": 15,
     "metadata": {},
     "output_type": "execute_result"
    }
   ],
   "source": [
    "occupancy['weekend'] = False\n",
    "occupancy.loc[occupancy.weekday.isin([5, 6]), 'weekend'] = True\n",
    "occupancy.head()"
   ]
  },
  {
   "cell_type": "code",
   "execution_count": 16,
   "metadata": {
    "collapsed": false,
    "slideshow": {
     "slide_type": "slide"
    }
   },
   "outputs": [
    {
     "data": {
      "text/plain": [
       "False    5263\n",
       "True     2880\n",
       "Name: weekend, dtype: int64"
      ]
     },
     "execution_count": 16,
     "metadata": {},
     "output_type": "execute_result"
    }
   ],
   "source": [
    "occupancy.weekend.value_counts()"
   ]
  },
  {
   "cell_type": "markdown",
   "metadata": {
    "slideshow": {
     "slide_type": "slide"
    }
   },
   "source": [
    "* Takto mozeme pracovat s dnami, tyzdnami, hodinami ....\n",
    "* Vieme vyberat konkretne hodiny a najst napriklad aktivnu cast dna\n",
    "* Mozeme najst rozne fazy dna kde sa ludia spravaju rozne \n",
    "> uzitocne napriklad pri analyze spravania sa ludi na webe - tesne poobede asi ludia citaju ine clanky ako v produktivnejsej casti dna \n",
    "* vlastne, rozne dlhe  intervaly"
   ]
  },
  {
   "cell_type": "markdown",
   "metadata": {
    "slideshow": {
     "slide_type": "slide"
    }
   },
   "source": [
    "# Uloha na doma\n",
    "\n",
    "* Co ked sa v noci tiez nekuri?\n",
    "* Co ked v nejake hodiny svieti cez okno slnko a tiez to rozhadzuje teplotu?"
   ]
  },
  {
   "cell_type": "code",
   "execution_count": 17,
   "metadata": {
    "collapsed": false,
    "slideshow": {
     "slide_type": "slide"
    }
   },
   "outputs": [
    {
     "data": {
      "text/html": [
       "\n",
       "        <iframe\n",
       "            width=\"700\"\n",
       "            height=\"350\"\n",
       "            src=\"http://pandas.pydata.org/pandas-docs/stable/api.html#datetimelike-properties\"\n",
       "            frameborder=\"0\"\n",
       "            allowfullscreen\n",
       "        ></iframe>\n",
       "        "
      ],
      "text/plain": [
       "<IPython.lib.display.IFrame at 0x7f9a644cef98>"
      ]
     },
     "execution_count": 17,
     "metadata": {},
     "output_type": "execute_result"
    }
   ],
   "source": [
    "# rozne atributy, ktore sa daju vytiahnut z casovej peciatky\n",
    "url = 'http://pandas.pydata.org/pandas-docs/stable/api.html#datetimelike-properties'\n",
    "IFrame(url, width=700, height=350)"
   ]
  },
  {
   "cell_type": "markdown",
   "metadata": {
    "slideshow": {
     "slide_type": "slide"
    }
   },
   "source": [
    "# Zoskupovanie viacerych pozorovani\n",
    "\n",
    "Zoskupovanie viacerych transakcii per objekt\n",
    "\n",
    "Typicke pri sledovani aktivity pouzivatelov kde zoskupujeme per pouzivatel\n",
    "\n",
    "Napriklad kliknutia na stranky alebo operacie v banke"
   ]
  },
  {
   "cell_type": "markdown",
   "metadata": {
    "slideshow": {
     "slide_type": "slide"
    }
   },
   "source": [
    "# Ukazeme si zopar prikladov na datach o bankovych operaciach nedzi roznymi uctami. \n",
    "\n",
    "Je to typicky priklad transakcnych dat\n",
    "\n",
    "http://lisp.vse.cz/pkdd99/berka.htm"
   ]
  },
  {
   "cell_type": "code",
   "execution_count": 18,
   "metadata": {
    "collapsed": false,
    "slideshow": {
     "slide_type": "slide"
    }
   },
   "outputs": [
    {
     "data": {
      "text/html": [
       "<div>\n",
       "<table border=\"1\" class=\"dataframe\">\n",
       "  <thead>\n",
       "    <tr style=\"text-align: right;\">\n",
       "      <th></th>\n",
       "      <th>trans_id</th>\n",
       "      <th>account_id</th>\n",
       "      <th>date</th>\n",
       "      <th>type</th>\n",
       "      <th>operation</th>\n",
       "      <th>amount</th>\n",
       "      <th>balance</th>\n",
       "      <th>k_symbol</th>\n",
       "      <th>bank</th>\n",
       "      <th>account</th>\n",
       "    </tr>\n",
       "  </thead>\n",
       "  <tbody>\n",
       "    <tr>\n",
       "      <th>0</th>\n",
       "      <td>695247</td>\n",
       "      <td>2378</td>\n",
       "      <td>930101</td>\n",
       "      <td>PRIJEM</td>\n",
       "      <td>VKLAD</td>\n",
       "      <td>700</td>\n",
       "      <td>700</td>\n",
       "      <td>NaN</td>\n",
       "      <td>NaN</td>\n",
       "      <td>NaN</td>\n",
       "    </tr>\n",
       "    <tr>\n",
       "      <th>1</th>\n",
       "      <td>171812</td>\n",
       "      <td>576</td>\n",
       "      <td>930101</td>\n",
       "      <td>PRIJEM</td>\n",
       "      <td>VKLAD</td>\n",
       "      <td>900</td>\n",
       "      <td>900</td>\n",
       "      <td>NaN</td>\n",
       "      <td>NaN</td>\n",
       "      <td>NaN</td>\n",
       "    </tr>\n",
       "    <tr>\n",
       "      <th>2</th>\n",
       "      <td>207264</td>\n",
       "      <td>704</td>\n",
       "      <td>930101</td>\n",
       "      <td>PRIJEM</td>\n",
       "      <td>VKLAD</td>\n",
       "      <td>1000</td>\n",
       "      <td>1000</td>\n",
       "      <td>NaN</td>\n",
       "      <td>NaN</td>\n",
       "      <td>NaN</td>\n",
       "    </tr>\n",
       "    <tr>\n",
       "      <th>3</th>\n",
       "      <td>1117247</td>\n",
       "      <td>3818</td>\n",
       "      <td>930101</td>\n",
       "      <td>PRIJEM</td>\n",
       "      <td>VKLAD</td>\n",
       "      <td>600</td>\n",
       "      <td>600</td>\n",
       "      <td>NaN</td>\n",
       "      <td>NaN</td>\n",
       "      <td>NaN</td>\n",
       "    </tr>\n",
       "    <tr>\n",
       "      <th>4</th>\n",
       "      <td>579373</td>\n",
       "      <td>1972</td>\n",
       "      <td>930102</td>\n",
       "      <td>PRIJEM</td>\n",
       "      <td>VKLAD</td>\n",
       "      <td>400</td>\n",
       "      <td>400</td>\n",
       "      <td>NaN</td>\n",
       "      <td>NaN</td>\n",
       "      <td>NaN</td>\n",
       "    </tr>\n",
       "  </tbody>\n",
       "</table>\n",
       "</div>"
      ],
      "text/plain": [
       "   trans_id  account_id    date    type operation  amount  balance k_symbol  \\\n",
       "0    695247        2378  930101  PRIJEM     VKLAD     700      700      NaN   \n",
       "1    171812         576  930101  PRIJEM     VKLAD     900      900      NaN   \n",
       "2    207264         704  930101  PRIJEM     VKLAD    1000     1000      NaN   \n",
       "3   1117247        3818  930101  PRIJEM     VKLAD     600      600      NaN   \n",
       "4    579373        1972  930102  PRIJEM     VKLAD     400      400      NaN   \n",
       "\n",
       "  bank  account  \n",
       "0  NaN      NaN  \n",
       "1  NaN      NaN  \n",
       "2  NaN      NaN  \n",
       "3  NaN      NaN  \n",
       "4  NaN      NaN  "
      ]
     },
     "execution_count": 18,
     "metadata": {},
     "output_type": "execute_result"
    }
   ],
   "source": [
    "trans = pd.read_csv('berka/trans.asc', sep=';', nrows=1000)\n",
    "trans.head()"
   ]
  },
  {
   "cell_type": "code",
   "execution_count": 19,
   "metadata": {
    "collapsed": false,
    "slideshow": {
     "slide_type": "slide"
    }
   },
   "outputs": [
    {
     "data": {
      "text/html": [
       "<div>\n",
       "<table border=\"1\" class=\"dataframe\">\n",
       "  <thead>\n",
       "    <tr style=\"text-align: right;\">\n",
       "      <th></th>\n",
       "      <th>trans_id</th>\n",
       "      <th>account_id</th>\n",
       "      <th>date</th>\n",
       "      <th>type</th>\n",
       "      <th>operation</th>\n",
       "      <th>amount</th>\n",
       "      <th>balance</th>\n",
       "      <th>k_symbol</th>\n",
       "      <th>bank</th>\n",
       "      <th>account</th>\n",
       "    </tr>\n",
       "  </thead>\n",
       "  <tbody>\n",
       "    <tr>\n",
       "      <th>0</th>\n",
       "      <td>695247</td>\n",
       "      <td>2378</td>\n",
       "      <td>1993-01-01</td>\n",
       "      <td>PRIJEM</td>\n",
       "      <td>VKLAD</td>\n",
       "      <td>700</td>\n",
       "      <td>700</td>\n",
       "      <td>NaN</td>\n",
       "      <td>NaN</td>\n",
       "      <td>NaN</td>\n",
       "    </tr>\n",
       "    <tr>\n",
       "      <th>1</th>\n",
       "      <td>171812</td>\n",
       "      <td>576</td>\n",
       "      <td>1993-01-01</td>\n",
       "      <td>PRIJEM</td>\n",
       "      <td>VKLAD</td>\n",
       "      <td>900</td>\n",
       "      <td>900</td>\n",
       "      <td>NaN</td>\n",
       "      <td>NaN</td>\n",
       "      <td>NaN</td>\n",
       "    </tr>\n",
       "    <tr>\n",
       "      <th>2</th>\n",
       "      <td>207264</td>\n",
       "      <td>704</td>\n",
       "      <td>1993-01-01</td>\n",
       "      <td>PRIJEM</td>\n",
       "      <td>VKLAD</td>\n",
       "      <td>1000</td>\n",
       "      <td>1000</td>\n",
       "      <td>NaN</td>\n",
       "      <td>NaN</td>\n",
       "      <td>NaN</td>\n",
       "    </tr>\n",
       "    <tr>\n",
       "      <th>3</th>\n",
       "      <td>1117247</td>\n",
       "      <td>3818</td>\n",
       "      <td>1993-01-01</td>\n",
       "      <td>PRIJEM</td>\n",
       "      <td>VKLAD</td>\n",
       "      <td>600</td>\n",
       "      <td>600</td>\n",
       "      <td>NaN</td>\n",
       "      <td>NaN</td>\n",
       "      <td>NaN</td>\n",
       "    </tr>\n",
       "    <tr>\n",
       "      <th>4</th>\n",
       "      <td>579373</td>\n",
       "      <td>1972</td>\n",
       "      <td>1993-01-02</td>\n",
       "      <td>PRIJEM</td>\n",
       "      <td>VKLAD</td>\n",
       "      <td>400</td>\n",
       "      <td>400</td>\n",
       "      <td>NaN</td>\n",
       "      <td>NaN</td>\n",
       "      <td>NaN</td>\n",
       "    </tr>\n",
       "  </tbody>\n",
       "</table>\n",
       "</div>"
      ],
      "text/plain": [
       "   trans_id  account_id       date    type operation  amount  balance  \\\n",
       "0    695247        2378 1993-01-01  PRIJEM     VKLAD     700      700   \n",
       "1    171812         576 1993-01-01  PRIJEM     VKLAD     900      900   \n",
       "2    207264         704 1993-01-01  PRIJEM     VKLAD    1000     1000   \n",
       "3   1117247        3818 1993-01-01  PRIJEM     VKLAD     600      600   \n",
       "4    579373        1972 1993-01-02  PRIJEM     VKLAD     400      400   \n",
       "\n",
       "  k_symbol bank  account  \n",
       "0      NaN  NaN      NaN  \n",
       "1      NaN  NaN      NaN  \n",
       "2      NaN  NaN      NaN  \n",
       "3      NaN  NaN      NaN  \n",
       "4      NaN  NaN      NaN  "
      ]
     },
     "execution_count": 19,
     "metadata": {},
     "output_type": "execute_result"
    }
   ],
   "source": [
    "date = pd.to_datetime(trans.date, format='%y%m%d')\n",
    "trans.date = date\n",
    "trans.head()"
   ]
  },
  {
   "cell_type": "markdown",
   "metadata": {
    "slideshow": {
     "slide_type": "slide"
    }
   },
   "source": [
    "# Rozne typy operacii maju uplne ine vlastnosti. Mohli by sme to pouzit na to, aby sme vytvorili nove atributy, ktore budu tieto skupiny oddelovat."
   ]
  },
  {
   "cell_type": "code",
   "execution_count": 20,
   "metadata": {
    "collapsed": false,
    "slideshow": {
     "slide_type": "slide"
    }
   },
   "outputs": [
    {
     "data": {
      "text/plain": [
       "operation\n",
       "PREVOD NA UCET     6361.600000\n",
       "PREVOD Z UCTU     11329.065359\n",
       "VKLAD              8025.238953\n",
       "VYBER             10925.340000\n",
       "Name: amount, dtype: float64"
      ]
     },
     "execution_count": 20,
     "metadata": {},
     "output_type": "execute_result"
    }
   ],
   "source": [
    "means = trans.groupby('operation').amount.mean()\n",
    "means"
   ]
  },
  {
   "cell_type": "code",
   "execution_count": 21,
   "metadata": {
    "collapsed": false,
    "slideshow": {
     "slide_type": "slide"
    }
   },
   "outputs": [
    {
     "data": {
      "text/html": [
       "<div>\n",
       "<table border=\"1\" class=\"dataframe\">\n",
       "  <thead>\n",
       "    <tr style=\"text-align: right;\">\n",
       "      <th></th>\n",
       "      <th>trans_id</th>\n",
       "      <th>account_id</th>\n",
       "      <th>date</th>\n",
       "      <th>type</th>\n",
       "      <th>operation</th>\n",
       "      <th>amount</th>\n",
       "      <th>balance</th>\n",
       "      <th>k_symbol</th>\n",
       "      <th>bank</th>\n",
       "      <th>account</th>\n",
       "      <th>mean_amount_per_operation</th>\n",
       "    </tr>\n",
       "  </thead>\n",
       "  <tbody>\n",
       "    <tr>\n",
       "      <th>0</th>\n",
       "      <td>695247</td>\n",
       "      <td>2378</td>\n",
       "      <td>1993-01-01</td>\n",
       "      <td>PRIJEM</td>\n",
       "      <td>VKLAD</td>\n",
       "      <td>700</td>\n",
       "      <td>700</td>\n",
       "      <td>NaN</td>\n",
       "      <td>NaN</td>\n",
       "      <td>NaN</td>\n",
       "      <td>8025.238953</td>\n",
       "    </tr>\n",
       "    <tr>\n",
       "      <th>1</th>\n",
       "      <td>171812</td>\n",
       "      <td>576</td>\n",
       "      <td>1993-01-01</td>\n",
       "      <td>PRIJEM</td>\n",
       "      <td>VKLAD</td>\n",
       "      <td>900</td>\n",
       "      <td>900</td>\n",
       "      <td>NaN</td>\n",
       "      <td>NaN</td>\n",
       "      <td>NaN</td>\n",
       "      <td>8025.238953</td>\n",
       "    </tr>\n",
       "    <tr>\n",
       "      <th>2</th>\n",
       "      <td>207264</td>\n",
       "      <td>704</td>\n",
       "      <td>1993-01-01</td>\n",
       "      <td>PRIJEM</td>\n",
       "      <td>VKLAD</td>\n",
       "      <td>1000</td>\n",
       "      <td>1000</td>\n",
       "      <td>NaN</td>\n",
       "      <td>NaN</td>\n",
       "      <td>NaN</td>\n",
       "      <td>8025.238953</td>\n",
       "    </tr>\n",
       "    <tr>\n",
       "      <th>3</th>\n",
       "      <td>1117247</td>\n",
       "      <td>3818</td>\n",
       "      <td>1993-01-01</td>\n",
       "      <td>PRIJEM</td>\n",
       "      <td>VKLAD</td>\n",
       "      <td>600</td>\n",
       "      <td>600</td>\n",
       "      <td>NaN</td>\n",
       "      <td>NaN</td>\n",
       "      <td>NaN</td>\n",
       "      <td>8025.238953</td>\n",
       "    </tr>\n",
       "    <tr>\n",
       "      <th>4</th>\n",
       "      <td>579373</td>\n",
       "      <td>1972</td>\n",
       "      <td>1993-01-02</td>\n",
       "      <td>PRIJEM</td>\n",
       "      <td>VKLAD</td>\n",
       "      <td>400</td>\n",
       "      <td>400</td>\n",
       "      <td>NaN</td>\n",
       "      <td>NaN</td>\n",
       "      <td>NaN</td>\n",
       "      <td>8025.238953</td>\n",
       "    </tr>\n",
       "  </tbody>\n",
       "</table>\n",
       "</div>"
      ],
      "text/plain": [
       "   trans_id  account_id       date    type operation  amount  balance  \\\n",
       "0    695247        2378 1993-01-01  PRIJEM     VKLAD     700      700   \n",
       "1    171812         576 1993-01-01  PRIJEM     VKLAD     900      900   \n",
       "2    207264         704 1993-01-01  PRIJEM     VKLAD    1000     1000   \n",
       "3   1117247        3818 1993-01-01  PRIJEM     VKLAD     600      600   \n",
       "4    579373        1972 1993-01-02  PRIJEM     VKLAD     400      400   \n",
       "\n",
       "  k_symbol bank  account  mean_amount_per_operation  \n",
       "0      NaN  NaN      NaN                8025.238953  \n",
       "1      NaN  NaN      NaN                8025.238953  \n",
       "2      NaN  NaN      NaN                8025.238953  \n",
       "3      NaN  NaN      NaN                8025.238953  \n",
       "4      NaN  NaN      NaN                8025.238953  "
      ]
     },
     "execution_count": 21,
     "metadata": {},
     "output_type": "execute_result"
    }
   ],
   "source": [
    "trans['mean_amount_per_operation'] = trans.apply(lambda x: 0 if pd.isnull(x['operation']) else means[x['operation']], axis=1)\n",
    "trans.head()"
   ]
  },
  {
   "cell_type": "markdown",
   "metadata": {
    "slideshow": {
     "slide_type": "slide"
    }
   },
   "source": [
    "# Podobny vysledok viem dosiahnut aj operaciou merge (join v SQL)\n",
    "\n",
    "je to trochu rychlejsie aj ked lambda mi dava podstatne sirsie moznosti operacii"
   ]
  },
  {
   "cell_type": "code",
   "execution_count": null,
   "metadata": {
    "collapsed": true,
    "slideshow": {
     "slide_type": "slide"
    }
   },
   "outputs": [],
   "source": [
    "means_df = pd.DataFrame(means)\n",
    "means_df.columns = ['mean_amount_per_operation']\n",
    "means_df['operation'] = means_df.index\n",
    "means_df.index = range(len(means_df))\n",
    "means_df"
   ]
  },
  {
   "cell_type": "code",
   "execution_count": null,
   "metadata": {
    "collapsed": true,
    "slideshow": {
     "slide_type": "slide"
    }
   },
   "outputs": [],
   "source": [
    "pd.merge(trans, means_df, how='left', on='operation')"
   ]
  },
  {
   "cell_type": "markdown",
   "metadata": {
    "collapsed": true,
    "slideshow": {
     "slide_type": "slide"
    }
   },
   "source": [
    "# Podobnym sposobom mozete vyrobit velmi vela roznych atributov\n",
    "\n",
    "* nepridat len priemer, ale aj pomer, >, < alebo rozdiel medzi priemerom a aktualnou hodnotou\n",
    "* priemer per account => odrazi zvyky konkretneho zakaznika\n",
    "* viete pouzit hociaky kategoricky atribut an vytvorenie segmentov\n",
    "* agregovanie inych atributov\n",
    "* agregovanie v casovom okne\n",
    "* ine agregacne funkcie: count, std, kvartily ....\n",
    "* viete dokonca vytvorit nove kategoriccke atributy podla ktorych ma zmysel agregovat pomocou zhlukovania"
   ]
  },
  {
   "cell_type": "markdown",
   "metadata": {
    "slideshow": {
     "slide_type": "slide"
    }
   },
   "source": [
    "# Numericke atributy\n",
    "\n",
    "co zaujimave sa da robit s nimi?"
   ]
  },
  {
   "cell_type": "code",
   "execution_count": 45,
   "metadata": {
    "collapsed": false,
    "slideshow": {
     "slide_type": "slide"
    }
   },
   "outputs": [
    {
     "data": {
      "text/html": [
       "<div>\n",
       "<table border=\"1\" class=\"dataframe\">\n",
       "  <thead>\n",
       "    <tr style=\"text-align: right;\">\n",
       "      <th></th>\n",
       "      <th>cli_pl_header</th>\n",
       "      <th>cli_pl_body</th>\n",
       "      <th>cli_cont_len</th>\n",
       "      <th>srv_pl_header</th>\n",
       "      <th>srv_pl_body</th>\n",
       "      <th>srv_cont_len</th>\n",
       "      <th>aggregated_sessions</th>\n",
       "      <th>bytes</th>\n",
       "      <th>net_samples</th>\n",
       "      <th>tcp_frag</th>\n",
       "      <th>...</th>\n",
       "      <th>application_latency</th>\n",
       "      <th>cli_tx_time</th>\n",
       "      <th>load_time</th>\n",
       "      <th>server_latency</th>\n",
       "      <th>proxy</th>\n",
       "      <th>sp_healthscore</th>\n",
       "      <th>sp_req_duration</th>\n",
       "      <th>sp_is_lat</th>\n",
       "      <th>sp_error</th>\n",
       "      <th>throughput</th>\n",
       "    </tr>\n",
       "  </thead>\n",
       "  <tbody>\n",
       "    <tr>\n",
       "      <th>0</th>\n",
       "      <td>667</td>\n",
       "      <td>0</td>\n",
       "      <td>0</td>\n",
       "      <td>336</td>\n",
       "      <td>143151</td>\n",
       "      <td>143151</td>\n",
       "      <td>1</td>\n",
       "      <td>155494</td>\n",
       "      <td>1</td>\n",
       "      <td>0</td>\n",
       "      <td>...</td>\n",
       "      <td>2.195</td>\n",
       "      <td>0</td>\n",
       "      <td>766.522</td>\n",
       "      <td>1.097</td>\n",
       "      <td>0</td>\n",
       "      <td>0</td>\n",
       "      <td>0</td>\n",
       "      <td>0</td>\n",
       "      <td>0</td>\n",
       "      <td>202.856539</td>\n",
       "    </tr>\n",
       "    <tr>\n",
       "      <th>1</th>\n",
       "      <td>667</td>\n",
       "      <td>0</td>\n",
       "      <td>0</td>\n",
       "      <td>336</td>\n",
       "      <td>143151</td>\n",
       "      <td>143151</td>\n",
       "      <td>1</td>\n",
       "      <td>310988</td>\n",
       "      <td>1</td>\n",
       "      <td>0</td>\n",
       "      <td>...</td>\n",
       "      <td>2.988</td>\n",
       "      <td>0</td>\n",
       "      <td>766.496</td>\n",
       "      <td>1.494</td>\n",
       "      <td>0</td>\n",
       "      <td>0</td>\n",
       "      <td>0</td>\n",
       "      <td>0</td>\n",
       "      <td>0</td>\n",
       "      <td>405.726840</td>\n",
       "    </tr>\n",
       "    <tr>\n",
       "      <th>2</th>\n",
       "      <td>667</td>\n",
       "      <td>0</td>\n",
       "      <td>0</td>\n",
       "      <td>336</td>\n",
       "      <td>143151</td>\n",
       "      <td>143151</td>\n",
       "      <td>1</td>\n",
       "      <td>310988</td>\n",
       "      <td>1</td>\n",
       "      <td>0</td>\n",
       "      <td>...</td>\n",
       "      <td>2.209</td>\n",
       "      <td>0</td>\n",
       "      <td>766.544</td>\n",
       "      <td>1.104</td>\n",
       "      <td>0</td>\n",
       "      <td>0</td>\n",
       "      <td>0</td>\n",
       "      <td>0</td>\n",
       "      <td>0</td>\n",
       "      <td>405.701434</td>\n",
       "    </tr>\n",
       "    <tr>\n",
       "      <th>3</th>\n",
       "      <td>592</td>\n",
       "      <td>0</td>\n",
       "      <td>0</td>\n",
       "      <td>238</td>\n",
       "      <td>1269</td>\n",
       "      <td>1269</td>\n",
       "      <td>1</td>\n",
       "      <td>2401</td>\n",
       "      <td>1</td>\n",
       "      <td>0</td>\n",
       "      <td>...</td>\n",
       "      <td>3.278</td>\n",
       "      <td>0</td>\n",
       "      <td>293.212</td>\n",
       "      <td>1.639</td>\n",
       "      <td>0</td>\n",
       "      <td>0</td>\n",
       "      <td>0</td>\n",
       "      <td>0</td>\n",
       "      <td>0</td>\n",
       "      <td>8.188614</td>\n",
       "    </tr>\n",
       "    <tr>\n",
       "      <th>4</th>\n",
       "      <td>592</td>\n",
       "      <td>0</td>\n",
       "      <td>0</td>\n",
       "      <td>238</td>\n",
       "      <td>1269</td>\n",
       "      <td>1269</td>\n",
       "      <td>1</td>\n",
       "      <td>4802</td>\n",
       "      <td>1</td>\n",
       "      <td>0</td>\n",
       "      <td>...</td>\n",
       "      <td>3.292</td>\n",
       "      <td>0</td>\n",
       "      <td>293.205</td>\n",
       "      <td>1.646</td>\n",
       "      <td>0</td>\n",
       "      <td>0</td>\n",
       "      <td>0</td>\n",
       "      <td>0</td>\n",
       "      <td>0</td>\n",
       "      <td>16.377620</td>\n",
       "    </tr>\n",
       "  </tbody>\n",
       "</table>\n",
       "<p>5 rows × 49 columns</p>\n",
       "</div>"
      ],
      "text/plain": [
       "   cli_pl_header  cli_pl_body  cli_cont_len  srv_pl_header  srv_pl_body  \\\n",
       "0            667            0             0            336       143151   \n",
       "1            667            0             0            336       143151   \n",
       "2            667            0             0            336       143151   \n",
       "3            592            0             0            238         1269   \n",
       "4            592            0             0            238         1269   \n",
       "\n",
       "   srv_cont_len  aggregated_sessions   bytes  net_samples  tcp_frag  \\\n",
       "0        143151                    1  155494            1         0   \n",
       "1        143151                    1  310988            1         0   \n",
       "2        143151                    1  310988            1         0   \n",
       "3          1269                    1    2401            1         0   \n",
       "4          1269                    1    4802            1         0   \n",
       "\n",
       "      ...      application_latency  cli_tx_time  load_time  server_latency  \\\n",
       "0     ...                    2.195            0    766.522           1.097   \n",
       "1     ...                    2.988            0    766.496           1.494   \n",
       "2     ...                    2.209            0    766.544           1.104   \n",
       "3     ...                    3.278            0    293.212           1.639   \n",
       "4     ...                    3.292            0    293.205           1.646   \n",
       "\n",
       "   proxy  sp_healthscore  sp_req_duration  sp_is_lat  sp_error  throughput  \n",
       "0      0               0                0          0         0  202.856539  \n",
       "1      0               0                0          0         0  405.726840  \n",
       "2      0               0                0          0         0  405.701434  \n",
       "3      0               0                0          0         0    8.188614  \n",
       "4      0               0                0          0         0   16.377620  \n",
       "\n",
       "[5 rows x 49 columns]"
      ]
     },
     "execution_count": 45,
     "metadata": {},
     "output_type": "execute_result"
    }
   ],
   "source": [
    "# data o komunikacii pocitacov v sieti z www.neteye-blog.com/netcla-the-ecml-pkdd-network-classification-challenge/\n",
    "# uloha je klasifikovat aka aplikacia data generovala\n",
    "data_file = \"../vos/challenge/NetCla/data/train.csv\"\n",
    "netcla = pd.read_csv(data_file, nrows=1000, sep='\\t')\n",
    "netcla.head()"
   ]
  },
  {
   "cell_type": "code",
   "execution_count": 46,
   "metadata": {
    "collapsed": false,
    "slideshow": {
     "slide_type": "slide"
    }
   },
   "outputs": [
    {
     "name": "stdout",
     "output_type": "stream",
     "text": [
      "<class 'pandas.core.frame.DataFrame'>\n",
      "Int64Index: 1000 entries, 0 to 999\n",
      "Data columns (total 49 columns):\n",
      "cli_pl_header          1000 non-null int64\n",
      "cli_pl_body            1000 non-null int64\n",
      "cli_cont_len           1000 non-null int64\n",
      "srv_pl_header          1000 non-null int64\n",
      "srv_pl_body            1000 non-null int64\n",
      "srv_cont_len           1000 non-null int64\n",
      "aggregated_sessions    1000 non-null int64\n",
      "bytes                  1000 non-null int64\n",
      "net_samples            1000 non-null int64\n",
      "tcp_frag               1000 non-null int64\n",
      "tcp_pkts               1000 non-null int64\n",
      "tcp_retr               1000 non-null int64\n",
      "tcp_ooo                1000 non-null int64\n",
      "cli_tcp_pkts           1000 non-null int64\n",
      "cli_tcp_ooo            1000 non-null int64\n",
      "cli_tcp_retr           1000 non-null int64\n",
      "cli_tcp_frag           1000 non-null int64\n",
      "cli_tcp_empty          1000 non-null int64\n",
      "cli_win_change         1000 non-null int64\n",
      "cli_win_zero           1000 non-null int64\n",
      "cli_tcp_full           1000 non-null int64\n",
      "cli_tcp_tot_bytes      1000 non-null int64\n",
      "cli_pl_tot             1000 non-null int64\n",
      "cli_pl_change          1000 non-null int64\n",
      "srv_tcp_pkts           1000 non-null int64\n",
      "srv_tcp_ooo            1000 non-null int64\n",
      "srv_tcp_retr           1000 non-null int64\n",
      "srv_tcp_frag           1000 non-null int64\n",
      "srv_tcp_empty          1000 non-null int64\n",
      "srv_win_change         1000 non-null int64\n",
      "srv_win_zero           1000 non-null int64\n",
      "srv_tcp_full           1000 non-null int64\n",
      "srv_tcp_tot_bytes      1000 non-null int64\n",
      "srv_pl_tot             1000 non-null int64\n",
      "srv_pl_change          1000 non-null int64\n",
      "srv_tcp_win            1000 non-null int64\n",
      "srv_tx_time            1000 non-null float64\n",
      "cli_tcp_win            1000 non-null int64\n",
      "client_latency         1000 non-null float64\n",
      "application_latency    1000 non-null float64\n",
      "cli_tx_time            1000 non-null float64\n",
      "load_time              1000 non-null float64\n",
      "server_latency         1000 non-null float64\n",
      "proxy                  1000 non-null int64\n",
      "sp_healthscore         1000 non-null int64\n",
      "sp_req_duration        1000 non-null int64\n",
      "sp_is_lat              1000 non-null int64\n",
      "sp_error               1000 non-null int64\n",
      "throughput             1000 non-null float64\n",
      "dtypes: float64(7), int64(42)\n",
      "memory usage: 390.6 KB\n"
     ]
    }
   ],
   "source": [
    "netcla.info()"
   ]
  },
  {
   "cell_type": "code",
   "execution_count": 47,
   "metadata": {
    "collapsed": false,
    "slideshow": {
     "slide_type": "slide"
    }
   },
   "outputs": [
    {
     "data": {
      "image/png": "[encoded data removed]",
      "text/plain": [
       "<matplotlib.figure.Figure at 0x7f9a604d1eb8>"
      ]
     },
     "metadata": {},
     "output_type": "display_data"
    }
   ],
   "source": [
    "# seaborn.pairplot(netcla) # toto nije dobry napad. Tych atributov je strasne vela a kazdy s kazdym je dost velka matica\n",
    "plt.rcParams['figure.figsize'] = 18, 12\n",
    "netcla.hist()\n",
    "plt.rcParams['figure.figsize'] = 9, 6"
   ]
  },
  {
   "cell_type": "code",
   "execution_count": 48,
   "metadata": {
    "collapsed": false,
    "slideshow": {
     "slide_type": "slide"
    }
   },
   "outputs": [
    {
     "data": {
      "text/plain": [
       "<matplotlib.text.Text at 0x7f9a6295fef0>"
      ]
     },
     "execution_count": 48,
     "metadata": {},
     "output_type": "execute_result"
    },
    {
     "data": {
      "image/png": "[encoded data removed]",
      "text/plain": [
       "<matplotlib.figure.Figure at 0x7f9a604d1908>"
      ]
     },
     "metadata": {},
     "output_type": "display_data"
    }
   ],
   "source": [
    "pom = netcla.throughput.hist(bins=50)\n",
    "pom.set_title('throughput')"
   ]
  },
  {
   "cell_type": "markdown",
   "metadata": {
    "slideshow": {
     "slide_type": "slide"
    }
   },
   "source": [
    "Rozne algoritmy mozu mat s takymto rozdelenim problem. \n",
    "\n",
    "Logisticka regresia, neuronova siet alebo hocico, co pouziva vahy na atributoch\n",
    "\n",
    "Aku mate dat vahu atributu ak ma rozsah od 0 do 10^6 a vacsina hodnot je sustredena na jednu stranu? \n",
    "\n",
    "Velke hodnty vam budu velmi ovplyvnovat cely vypocet a nebudete vediet rozlysit tie male."
   ]
  },
  {
   "cell_type": "code",
   "execution_count": 49,
   "metadata": {
    "collapsed": false,
    "slideshow": {
     "slide_type": "slide"
    }
   },
   "outputs": [],
   "source": [
    "from scipy.stats import boxcox "
   ]
  },
  {
   "cell_type": "markdown",
   "metadata": {},
   "source": [
    "namiesto box-cox by sa dal pouzit logaritmus povodnej hodnoty, ale to je hack. box-cox sa dokaze postarat o to, aby sa vysledne rozelenie podobalo normalnemu"
   ]
  },
  {
   "cell_type": "code",
   "execution_count": 50,
   "metadata": {
    "collapsed": false,
    "slideshow": {
     "slide_type": "slide"
    }
   },
   "outputs": [
    {
     "data": {
      "text/plain": [
       "<matplotlib.text.Text at 0x7f9a5a757ba8>"
      ]
     },
     "execution_count": 50,
     "metadata": {},
     "output_type": "execute_result"
    },
    {
     "data": {
      "image/png": "[encoded data removed]",
      "text/plain": [
       "<matplotlib.figure.Figure at 0x7f9a5a7a6748>"
      ]
     },
     "metadata": {},
     "output_type": "display_data"
    }
   ],
   "source": [
    "# boxcox vrati transformovane data a parametre transformacie. Tie viem zafixovat a v tom pripade mi to vrati len transformovane data\n",
    "transformed, att = boxcox(netcla.throughput+1)# nevieme transformovat 0 a zaporne hodnoty. preto + 1\n",
    "pom = pd.Series(transformed).hist(bins=50)\n",
    "pom.set_title('throughput (box-cox)')"
   ]
  },
  {
   "cell_type": "markdown",
   "metadata": {},
   "source": [
    "Toto sa uz trochu podoba na normalne rozdelenie ale nie je normalizovane"
   ]
  },
  {
   "cell_type": "markdown",
   "metadata": {
    "slideshow": {
     "slide_type": "slide"
    }
   },
   "source": [
    "# Zakladny typ normalizacie (skalovania) je vydelit na opravenie skaly a odcitat nieco na opravu posunutia"
   ]
  },
  {
   "cell_type": "code",
   "execution_count": 51,
   "metadata": {
    "collapsed": false
   },
   "outputs": [],
   "source": [
    "def normalization(data, shift, scale): \n",
    "    return (np.array(data) - float(shift))/scale"
   ]
  },
  {
   "cell_type": "markdown",
   "metadata": {},
   "source": [
    "* z-normalization: shift = mean, scale = std\n",
    "\n",
    "* 0-1 normalization: shift = min, scale =  max - min\n",
    "\n",
    "* kvartily na odstranenie outlierov"
   ]
  },
  {
   "cell_type": "markdown",
   "metadata": {
    "slideshow": {
     "slide_type": "slide"
    }
   },
   "source": [
    "# Nemusite to programovat. Sklearn uz ma nieco pripravene\n",
    "* toto iste robi sklearn.preprocessing.StandardScaler pre vsetky atributy. Pozor ale na power law\n",
    "* ak pouzijete RobustScaler, tak si viete poradit aj s outliermi (pouziva rozsah 1st quartile (25th quantile) and the 3rd quartile (75th quantile))\n"
   ]
  },
  {
   "cell_type": "code",
   "execution_count": 52,
   "metadata": {
    "collapsed": false,
    "slideshow": {
     "slide_type": "slide"
    }
   },
   "outputs": [
    {
     "data": {
      "text/plain": [
       "<matplotlib.text.Text at 0x7f9a5a650be0>"
      ]
     },
     "execution_count": 52,
     "metadata": {},
     "output_type": "execute_result"
    },
    {
     "data": {
      "image/png": "[encoded data removed]",
      "text/plain": [
       "<matplotlib.figure.Figure at 0x7f9a5a72cac8>"
      ]
     },
     "metadata": {},
     "output_type": "display_data"
    }
   ],
   "source": [
    "z_transformed = normalization(transformed, np.mean(transformed), np.std(transformed))\n",
    "pom = pd.Series(z_transformed).hist(bins=50)\n",
    "pom.set_title('throughput (Z-normalization)')"
   ]
  },
  {
   "cell_type": "markdown",
   "metadata": {
    "slideshow": {
     "slide_type": "slide"
    }
   },
   "source": [
    "# Skalovanie / normalizacia nie je dolezita len pri trenovani modelu. \n",
    "\n",
    "# PCA (redukcia dimenzionality) napriklad to potrebuje tiez\n",
    "PCA sa snazi vysvetlit varianciu v datach co najmensim poctom atributov. Vie ovahovat atributy datasetu podla toho kolko je v nich variancie a s takou vahou ich pouziva. Ak mate nenormalizovany atribut, ktory ma varianciu ovela vacsiu ako ostatne, tak bude vo vysledkej reprezentacii odrazeny velmi silno na ukor ostatnych. Nie vzdy to chcete. "
   ]
  },
  {
   "cell_type": "markdown",
   "metadata": {
    "collapsed": true,
    "slideshow": {
     "slide_type": "slide"
    }
   },
   "source": [
    "# Vyrabanie atributov kombinovanim\n",
    "\n",
    "Niekedy vam samotny atribut velmi nepomoze. Ak ho ale nejak skombinujete s inym, tak uz moze. \n",
    "\n",
    "Napriklad mate dataset aut, kde je spotreba a velkost nadrze. Tieto atributy su fajn, ale ak ich medzi sebou prenasobite, tak dostanete dojazd co moze tiez velmi dolezite pri vybere auta.\n",
    "\n",
    "Na toto obycajne potrebujete domenovu znalost. Tento proces sa ale da do nejakej miery automatizovat."
   ]
  },
  {
   "cell_type": "markdown",
   "metadata": {
    "slideshow": {
     "slide_type": "slide"
    }
   },
   "source": [
    "## Polynomialne kombinovanie"
   ]
  },
  {
   "cell_type": "code",
   "execution_count": 53,
   "metadata": {
    "collapsed": false,
    "slideshow": {
     "slide_type": "slide"
    }
   },
   "outputs": [
    {
     "data": {
      "text/plain": [
       "array([[0, 1],\n",
       "       [2, 3],\n",
       "       [4, 5]])"
      ]
     },
     "execution_count": 53,
     "metadata": {},
     "output_type": "execute_result"
    }
   ],
   "source": [
    "X = np.arange(6).reshape(3, 2)\n",
    "X"
   ]
  },
  {
   "cell_type": "code",
   "execution_count": 54,
   "metadata": {
    "collapsed": false,
    "slideshow": {
     "slide_type": "slide"
    }
   },
   "outputs": [
    {
     "data": {
      "text/plain": [
       "array([[   1.,    0.,    1.,    0.,    0.,    1.,    0.,    0.,    0.,\n",
       "           1.],\n",
       "       [   1.,    2.,    3.,    4.,    6.,    9.,    8.,   12.,   18.,\n",
       "          27.],\n",
       "       [   1.,    4.,    5.,   16.,   20.,   25.,   64.,   80.,  100.,\n",
       "         125.]])"
      ]
     },
     "execution_count": 54,
     "metadata": {},
     "output_type": "execute_result"
    }
   ],
   "source": [
    "from sklearn import preprocessing\n",
    "poly = preprocessing.PolynomialFeatures(3)\n",
    "poly.fit_transform(X) # vytvorenie polynomialnych kombinacii"
   ]
  },
  {
   "cell_type": "markdown",
   "metadata": {
    "slideshow": {
     "slide_type": "slide"
    }
   },
   "source": [
    "a^0, a, b, a^2, a*b, b^2, a^3, a^2*b, a*b^2, b^3"
   ]
  },
  {
   "cell_type": "markdown",
   "metadata": {
    "slideshow": {
     "slide_type": "slide"
    }
   },
   "source": [
    "# Znovu si zoberiem data z Titanicu"
   ]
  },
  {
   "cell_type": "code",
   "execution_count": 55,
   "metadata": {
    "collapsed": false
   },
   "outputs": [
    {
     "data": {
      "text/html": [
       "<div>\n",
       "<table border=\"1\" class=\"dataframe\">\n",
       "  <thead>\n",
       "    <tr style=\"text-align: right;\">\n",
       "      <th></th>\n",
       "      <th>PassengerId</th>\n",
       "      <th>Survived</th>\n",
       "      <th>Pclass</th>\n",
       "      <th>Name</th>\n",
       "      <th>Sex</th>\n",
       "      <th>Age</th>\n",
       "      <th>SibSp</th>\n",
       "      <th>Parch</th>\n",
       "      <th>Ticket</th>\n",
       "      <th>Fare</th>\n",
       "      <th>Cabin</th>\n",
       "      <th>Embarked</th>\n",
       "    </tr>\n",
       "  </thead>\n",
       "  <tbody>\n",
       "    <tr>\n",
       "      <th>0</th>\n",
       "      <td>1</td>\n",
       "      <td>0</td>\n",
       "      <td>3</td>\n",
       "      <td>Braund, Mr. Owen Harris</td>\n",
       "      <td>male</td>\n",
       "      <td>22</td>\n",
       "      <td>1</td>\n",
       "      <td>0</td>\n",
       "      <td>A/5 21171</td>\n",
       "      <td>7.2500</td>\n",
       "      <td>NaN</td>\n",
       "      <td>S</td>\n",
       "    </tr>\n",
       "    <tr>\n",
       "      <th>1</th>\n",
       "      <td>2</td>\n",
       "      <td>1</td>\n",
       "      <td>1</td>\n",
       "      <td>Cumings, Mrs. John Bradley (Florence Briggs Th...</td>\n",
       "      <td>female</td>\n",
       "      <td>38</td>\n",
       "      <td>1</td>\n",
       "      <td>0</td>\n",
       "      <td>PC 17599</td>\n",
       "      <td>71.2833</td>\n",
       "      <td>C85</td>\n",
       "      <td>C</td>\n",
       "    </tr>\n",
       "    <tr>\n",
       "      <th>2</th>\n",
       "      <td>3</td>\n",
       "      <td>1</td>\n",
       "      <td>3</td>\n",
       "      <td>Heikkinen, Miss. Laina</td>\n",
       "      <td>female</td>\n",
       "      <td>26</td>\n",
       "      <td>0</td>\n",
       "      <td>0</td>\n",
       "      <td>STON/O2. 3101282</td>\n",
       "      <td>7.9250</td>\n",
       "      <td>NaN</td>\n",
       "      <td>S</td>\n",
       "    </tr>\n",
       "    <tr>\n",
       "      <th>3</th>\n",
       "      <td>4</td>\n",
       "      <td>1</td>\n",
       "      <td>1</td>\n",
       "      <td>Futrelle, Mrs. Jacques Heath (Lily May Peel)</td>\n",
       "      <td>female</td>\n",
       "      <td>35</td>\n",
       "      <td>1</td>\n",
       "      <td>0</td>\n",
       "      <td>113803</td>\n",
       "      <td>53.1000</td>\n",
       "      <td>C123</td>\n",
       "      <td>S</td>\n",
       "    </tr>\n",
       "    <tr>\n",
       "      <th>4</th>\n",
       "      <td>5</td>\n",
       "      <td>0</td>\n",
       "      <td>3</td>\n",
       "      <td>Allen, Mr. William Henry</td>\n",
       "      <td>male</td>\n",
       "      <td>35</td>\n",
       "      <td>0</td>\n",
       "      <td>0</td>\n",
       "      <td>373450</td>\n",
       "      <td>8.0500</td>\n",
       "      <td>NaN</td>\n",
       "      <td>S</td>\n",
       "    </tr>\n",
       "  </tbody>\n",
       "</table>\n",
       "</div>"
      ],
      "text/plain": [
       "   PassengerId  Survived  Pclass  \\\n",
       "0            1         0       3   \n",
       "1            2         1       1   \n",
       "2            3         1       3   \n",
       "3            4         1       1   \n",
       "4            5         0       3   \n",
       "\n",
       "                                                Name     Sex  Age  SibSp  \\\n",
       "0                            Braund, Mr. Owen Harris    male   22      1   \n",
       "1  Cumings, Mrs. John Bradley (Florence Briggs Th...  female   38      1   \n",
       "2                             Heikkinen, Miss. Laina  female   26      0   \n",
       "3       Futrelle, Mrs. Jacques Heath (Lily May Peel)  female   35      1   \n",
       "4                           Allen, Mr. William Henry    male   35      0   \n",
       "\n",
       "   Parch            Ticket     Fare Cabin Embarked  \n",
       "0      0         A/5 21171   7.2500   NaN        S  \n",
       "1      0          PC 17599  71.2833   C85        C  \n",
       "2      0  STON/O2. 3101282   7.9250   NaN        S  \n",
       "3      0            113803  53.1000  C123        S  \n",
       "4      0            373450   8.0500   NaN        S  "
      ]
     },
     "execution_count": 55,
     "metadata": {},
     "output_type": "execute_result"
    }
   ],
   "source": [
    "titanic = pd.read_csv('titanic/train.csv')\n",
    "titanic.head()"
   ]
  },
  {
   "cell_type": "markdown",
   "metadata": {
    "slideshow": {
     "slide_type": "slide"
    }
   },
   "source": [
    "nevieme pouzivat prazdne hodnoty pri vypocte polynomialnych vlastnosti\n",
    "\n",
    "rozdelime si data na zavisle a nezavisle premenne"
   ]
  },
  {
   "cell_type": "code",
   "execution_count": 56,
   "metadata": {
    "collapsed": false,
    "slideshow": {
     "slide_type": "-"
    }
   },
   "outputs": [],
   "source": [
    "titanic_X = titanic.dropna().reindex(columns=[x for x in titanic.columns.values if x != 'Survived']).reset_index(drop=True)\n",
    "titanic_y = titanic.dropna().reindex(columns=['Survived']).reset_index(drop=True)"
   ]
  },
  {
   "cell_type": "code",
   "execution_count": 57,
   "metadata": {
    "collapsed": false,
    "slideshow": {
     "slide_type": "slide"
    }
   },
   "outputs": [
    {
     "ename": "ValueError",
     "evalue": "could not convert string to float: 'C'",
     "output_type": "error",
     "traceback": [
      "\u001b[1;31m---------------------------------------------------------------------------\u001b[0m",
      "\u001b[1;31mValueError\u001b[0m                                Traceback (most recent call last)",
      "\u001b[1;32m<ipython-input-57-b0714673e126>\u001b[0m in \u001b[0;36m<module>\u001b[1;34m()\u001b[0m\n\u001b[0;32m      1\u001b[0m \u001b[0mpoly\u001b[0m \u001b[1;33m=\u001b[0m \u001b[0mpreprocessing\u001b[0m\u001b[1;33m.\u001b[0m\u001b[0mPolynomialFeatures\u001b[0m\u001b[1;33m(\u001b[0m\u001b[1;36m2\u001b[0m\u001b[1;33m)\u001b[0m\u001b[1;33m\u001b[0m\u001b[0m\n\u001b[0;32m      2\u001b[0m \u001b[1;31m# pozor na prilis velke cislo. Vznikne vela atributov a hrozi ze budete mat malo dat na natrenovanie\u001b[0m\u001b[1;33m\u001b[0m\u001b[1;33m\u001b[0m\u001b[0m\n\u001b[1;32m----> 3\u001b[1;33m \u001b[0mpolynomial_titanic\u001b[0m \u001b[1;33m=\u001b[0m \u001b[0mpoly\u001b[0m\u001b[1;33m.\u001b[0m\u001b[0mfit_transform\u001b[0m\u001b[1;33m(\u001b[0m\u001b[0mtitanic_X\u001b[0m\u001b[1;33m)\u001b[0m\u001b[1;33m\u001b[0m\u001b[0m\n\u001b[0m",
      "\u001b[1;32m/usr/local/lib/python3.4/dist-packages/sklearn/base.py\u001b[0m in \u001b[0;36mfit_transform\u001b[1;34m(self, X, y, **fit_params)\u001b[0m\n\u001b[0;32m    492\u001b[0m         \u001b[1;32mif\u001b[0m \u001b[0my\u001b[0m \u001b[1;32mis\u001b[0m \u001b[1;32mNone\u001b[0m\u001b[1;33m:\u001b[0m\u001b[1;33m\u001b[0m\u001b[0m\n\u001b[0;32m    493\u001b[0m             \u001b[1;31m# fit method of arity 1 (unsupervised transformation)\u001b[0m\u001b[1;33m\u001b[0m\u001b[1;33m\u001b[0m\u001b[0m\n\u001b[1;32m--> 494\u001b[1;33m             \u001b[1;32mreturn\u001b[0m \u001b[0mself\u001b[0m\u001b[1;33m.\u001b[0m\u001b[0mfit\u001b[0m\u001b[1;33m(\u001b[0m\u001b[0mX\u001b[0m\u001b[1;33m,\u001b[0m \u001b[1;33m**\u001b[0m\u001b[0mfit_params\u001b[0m\u001b[1;33m)\u001b[0m\u001b[1;33m.\u001b[0m\u001b[0mtransform\u001b[0m\u001b[1;33m(\u001b[0m\u001b[0mX\u001b[0m\u001b[1;33m)\u001b[0m\u001b[1;33m\u001b[0m\u001b[0m\n\u001b[0m\u001b[0;32m    495\u001b[0m         \u001b[1;32melse\u001b[0m\u001b[1;33m:\u001b[0m\u001b[1;33m\u001b[0m\u001b[0m\n\u001b[0;32m    496\u001b[0m             \u001b[1;31m# fit method of arity 2 (supervised transformation)\u001b[0m\u001b[1;33m\u001b[0m\u001b[1;33m\u001b[0m\u001b[0m\n",
      "\u001b[1;32m/usr/local/lib/python3.4/dist-packages/sklearn/preprocessing/data.py\u001b[0m in \u001b[0;36mfit\u001b[1;34m(self, X, y)\u001b[0m\n\u001b[0;32m   1256\u001b[0m         \u001b[0mCompute\u001b[0m \u001b[0mnumber\u001b[0m \u001b[0mof\u001b[0m \u001b[0moutput\u001b[0m \u001b[0mfeatures\u001b[0m\u001b[1;33m.\u001b[0m\u001b[1;33m\u001b[0m\u001b[0m\n\u001b[0;32m   1257\u001b[0m         \"\"\"\n\u001b[1;32m-> 1258\u001b[1;33m         \u001b[0mn_samples\u001b[0m\u001b[1;33m,\u001b[0m \u001b[0mn_features\u001b[0m \u001b[1;33m=\u001b[0m \u001b[0mcheck_array\u001b[0m\u001b[1;33m(\u001b[0m\u001b[0mX\u001b[0m\u001b[1;33m)\u001b[0m\u001b[1;33m.\u001b[0m\u001b[0mshape\u001b[0m\u001b[1;33m\u001b[0m\u001b[0m\n\u001b[0m\u001b[0;32m   1259\u001b[0m         combinations = self._combinations(n_features, self.degree,\n\u001b[0;32m   1260\u001b[0m                                           \u001b[0mself\u001b[0m\u001b[1;33m.\u001b[0m\u001b[0minteraction_only\u001b[0m\u001b[1;33m,\u001b[0m\u001b[1;33m\u001b[0m\u001b[0m\n",
      "\u001b[1;32m/usr/local/lib/python3.4/dist-packages/sklearn/utils/validation.py\u001b[0m in \u001b[0;36mcheck_array\u001b[1;34m(array, accept_sparse, dtype, order, copy, force_all_finite, ensure_2d, allow_nd, ensure_min_samples, ensure_min_features, warn_on_dtype, estimator)\u001b[0m\n\u001b[0;32m    400\u001b[0m         \u001b[1;31m# make sure we actually converted to numeric:\u001b[0m\u001b[1;33m\u001b[0m\u001b[1;33m\u001b[0m\u001b[0m\n\u001b[0;32m    401\u001b[0m         \u001b[1;32mif\u001b[0m \u001b[0mdtype_numeric\u001b[0m \u001b[1;32mand\u001b[0m \u001b[0marray\u001b[0m\u001b[1;33m.\u001b[0m\u001b[0mdtype\u001b[0m\u001b[1;33m.\u001b[0m\u001b[0mkind\u001b[0m \u001b[1;33m==\u001b[0m \u001b[1;34m\"O\"\u001b[0m\u001b[1;33m:\u001b[0m\u001b[1;33m\u001b[0m\u001b[0m\n\u001b[1;32m--> 402\u001b[1;33m             \u001b[0marray\u001b[0m \u001b[1;33m=\u001b[0m \u001b[0marray\u001b[0m\u001b[1;33m.\u001b[0m\u001b[0mastype\u001b[0m\u001b[1;33m(\u001b[0m\u001b[0mnp\u001b[0m\u001b[1;33m.\u001b[0m\u001b[0mfloat64\u001b[0m\u001b[1;33m)\u001b[0m\u001b[1;33m\u001b[0m\u001b[0m\n\u001b[0m\u001b[0;32m    403\u001b[0m         \u001b[1;32mif\u001b[0m \u001b[1;32mnot\u001b[0m \u001b[0mallow_nd\u001b[0m \u001b[1;32mand\u001b[0m \u001b[0marray\u001b[0m\u001b[1;33m.\u001b[0m\u001b[0mndim\u001b[0m \u001b[1;33m>=\u001b[0m \u001b[1;36m3\u001b[0m\u001b[1;33m:\u001b[0m\u001b[1;33m\u001b[0m\u001b[0m\n\u001b[0;32m    404\u001b[0m             raise ValueError(\"Found array with dim %d. %s expected <= 2.\"\n",
      "\u001b[1;31mValueError\u001b[0m: could not convert string to float: 'C'"
     ]
    }
   ],
   "source": [
    "poly = preprocessing.PolynomialFeatures(2) \n",
    "# pozor na prilis velke cislo. Vznikne vela atributov a hrozi ze budete mat malo dat na natrenovanie\n",
    "polynomial_titanic = poly.fit_transform(titanic_X)"
   ]
  },
  {
   "cell_type": "markdown",
   "metadata": {
    "slideshow": {
     "slide_type": "slide"
    }
   },
   "source": [
    "# Nemozeme pouzivat kategoricke atributy. Len numericke"
   ]
  },
  {
   "cell_type": "code",
   "execution_count": 58,
   "metadata": {
    "collapsed": false,
    "slideshow": {
     "slide_type": "slide"
    }
   },
   "outputs": [],
   "source": [
    "polynomial_titanic = poly.fit_transform(titanic_X._get_numeric_data())"
   ]
  },
  {
   "cell_type": "code",
   "execution_count": 59,
   "metadata": {
    "collapsed": false,
    "slideshow": {
     "slide_type": "slide"
    }
   },
   "outputs": [
    {
     "data": {
      "text/html": [
       "<div>\n",
       "<table border=\"1\" class=\"dataframe\">\n",
       "  <thead>\n",
       "    <tr style=\"text-align: right;\">\n",
       "      <th></th>\n",
       "      <th>0</th>\n",
       "      <th>1</th>\n",
       "      <th>2</th>\n",
       "      <th>3</th>\n",
       "      <th>4</th>\n",
       "      <th>5</th>\n",
       "      <th>6</th>\n",
       "      <th>7</th>\n",
       "      <th>8</th>\n",
       "      <th>9</th>\n",
       "      <th>...</th>\n",
       "      <th>18</th>\n",
       "      <th>19</th>\n",
       "      <th>20</th>\n",
       "      <th>21</th>\n",
       "      <th>22</th>\n",
       "      <th>23</th>\n",
       "      <th>24</th>\n",
       "      <th>25</th>\n",
       "      <th>26</th>\n",
       "      <th>27</th>\n",
       "    </tr>\n",
       "  </thead>\n",
       "  <tbody>\n",
       "    <tr>\n",
       "      <th>0</th>\n",
       "      <td>1</td>\n",
       "      <td>2</td>\n",
       "      <td>1</td>\n",
       "      <td>38</td>\n",
       "      <td>1</td>\n",
       "      <td>0</td>\n",
       "      <td>71.2833</td>\n",
       "      <td>4</td>\n",
       "      <td>2</td>\n",
       "      <td>76</td>\n",
       "      <td>...</td>\n",
       "      <td>1444</td>\n",
       "      <td>38</td>\n",
       "      <td>0</td>\n",
       "      <td>2708.7654</td>\n",
       "      <td>1</td>\n",
       "      <td>0</td>\n",
       "      <td>71.2833</td>\n",
       "      <td>0</td>\n",
       "      <td>0.0</td>\n",
       "      <td>5081.308859</td>\n",
       "    </tr>\n",
       "    <tr>\n",
       "      <th>1</th>\n",
       "      <td>1</td>\n",
       "      <td>4</td>\n",
       "      <td>1</td>\n",
       "      <td>35</td>\n",
       "      <td>1</td>\n",
       "      <td>0</td>\n",
       "      <td>53.1000</td>\n",
       "      <td>16</td>\n",
       "      <td>4</td>\n",
       "      <td>140</td>\n",
       "      <td>...</td>\n",
       "      <td>1225</td>\n",
       "      <td>35</td>\n",
       "      <td>0</td>\n",
       "      <td>1858.5000</td>\n",
       "      <td>1</td>\n",
       "      <td>0</td>\n",
       "      <td>53.1000</td>\n",
       "      <td>0</td>\n",
       "      <td>0.0</td>\n",
       "      <td>2819.610000</td>\n",
       "    </tr>\n",
       "    <tr>\n",
       "      <th>2</th>\n",
       "      <td>1</td>\n",
       "      <td>7</td>\n",
       "      <td>1</td>\n",
       "      <td>54</td>\n",
       "      <td>0</td>\n",
       "      <td>0</td>\n",
       "      <td>51.8625</td>\n",
       "      <td>49</td>\n",
       "      <td>7</td>\n",
       "      <td>378</td>\n",
       "      <td>...</td>\n",
       "      <td>2916</td>\n",
       "      <td>0</td>\n",
       "      <td>0</td>\n",
       "      <td>2800.5750</td>\n",
       "      <td>0</td>\n",
       "      <td>0</td>\n",
       "      <td>0.0000</td>\n",
       "      <td>0</td>\n",
       "      <td>0.0</td>\n",
       "      <td>2689.718906</td>\n",
       "    </tr>\n",
       "    <tr>\n",
       "      <th>3</th>\n",
       "      <td>1</td>\n",
       "      <td>11</td>\n",
       "      <td>3</td>\n",
       "      <td>4</td>\n",
       "      <td>1</td>\n",
       "      <td>1</td>\n",
       "      <td>16.7000</td>\n",
       "      <td>121</td>\n",
       "      <td>33</td>\n",
       "      <td>44</td>\n",
       "      <td>...</td>\n",
       "      <td>16</td>\n",
       "      <td>4</td>\n",
       "      <td>4</td>\n",
       "      <td>66.8000</td>\n",
       "      <td>1</td>\n",
       "      <td>1</td>\n",
       "      <td>16.7000</td>\n",
       "      <td>1</td>\n",
       "      <td>16.7</td>\n",
       "      <td>278.890000</td>\n",
       "    </tr>\n",
       "    <tr>\n",
       "      <th>4</th>\n",
       "      <td>1</td>\n",
       "      <td>12</td>\n",
       "      <td>1</td>\n",
       "      <td>58</td>\n",
       "      <td>0</td>\n",
       "      <td>0</td>\n",
       "      <td>26.5500</td>\n",
       "      <td>144</td>\n",
       "      <td>12</td>\n",
       "      <td>696</td>\n",
       "      <td>...</td>\n",
       "      <td>3364</td>\n",
       "      <td>0</td>\n",
       "      <td>0</td>\n",
       "      <td>1539.9000</td>\n",
       "      <td>0</td>\n",
       "      <td>0</td>\n",
       "      <td>0.0000</td>\n",
       "      <td>0</td>\n",
       "      <td>0.0</td>\n",
       "      <td>704.902500</td>\n",
       "    </tr>\n",
       "  </tbody>\n",
       "</table>\n",
       "<p>5 rows × 28 columns</p>\n",
       "</div>"
      ],
      "text/plain": [
       "   0   1   2   3   4   5        6    7   8    9      ...         18  19  20  \\\n",
       "0   1   2   1  38   1   0  71.2833    4   2   76     ...       1444  38   0   \n",
       "1   1   4   1  35   1   0  53.1000   16   4  140     ...       1225  35   0   \n",
       "2   1   7   1  54   0   0  51.8625   49   7  378     ...       2916   0   0   \n",
       "3   1  11   3   4   1   1  16.7000  121  33   44     ...         16   4   4   \n",
       "4   1  12   1  58   0   0  26.5500  144  12  696     ...       3364   0   0   \n",
       "\n",
       "          21  22  23       24  25    26           27  \n",
       "0  2708.7654   1   0  71.2833   0   0.0  5081.308859  \n",
       "1  1858.5000   1   0  53.1000   0   0.0  2819.610000  \n",
       "2  2800.5750   0   0   0.0000   0   0.0  2689.718906  \n",
       "3    66.8000   1   1  16.7000   1  16.7   278.890000  \n",
       "4  1539.9000   0   0   0.0000   0   0.0   704.902500  \n",
       "\n",
       "[5 rows x 28 columns]"
      ]
     },
     "execution_count": 59,
     "metadata": {},
     "output_type": "execute_result"
    }
   ],
   "source": [
    "polynomial = pd.DataFrame(polynomial_titanic)\n",
    "polynomial.head()"
   ]
  },
  {
   "cell_type": "code",
   "execution_count": 60,
   "metadata": {
    "collapsed": false
   },
   "outputs": [
    {
     "data": {
      "text/plain": [
       "(183, 6)"
      ]
     },
     "execution_count": 60,
     "metadata": {},
     "output_type": "execute_result"
    }
   ],
   "source": [
    "titanic_X._get_numeric_data().shape"
   ]
  },
  {
   "cell_type": "markdown",
   "metadata": {
    "slideshow": {
     "slide_type": "slide"
    }
   },
   "source": [
    "ak by ste chceli zachovat rozumne nazvy stlpcov: http://stackoverflow.com/questions/36728287/sklearn-preprocessing-polynomialfeatures-how-to-keep-column-names-headers-of"
   ]
  },
  {
   "cell_type": "markdown",
   "metadata": {
    "slideshow": {
     "slide_type": "slide"
    }
   },
   "source": [
    "# Dobre, skusme natrenovat model a pozriet sa ako nam tieto polynomialne vlastnosti zmenia uspesnost"
   ]
  },
  {
   "cell_type": "markdown",
   "metadata": {
    "slideshow": {
     "slide_type": "slide"
    }
   },
   "source": [
    "# Najskor povodne data"
   ]
  },
  {
   "cell_type": "code",
   "execution_count": 61,
   "metadata": {
    "collapsed": false,
    "slideshow": {
     "slide_type": "slide"
    }
   },
   "outputs": [
    {
     "data": {
      "text/html": [
       "<div>\n",
       "<table border=\"1\" class=\"dataframe\">\n",
       "  <thead>\n",
       "    <tr style=\"text-align: right;\">\n",
       "      <th></th>\n",
       "      <th>PassengerId</th>\n",
       "      <th>Survived</th>\n",
       "      <th>Pclass</th>\n",
       "      <th>Age</th>\n",
       "      <th>SibSp</th>\n",
       "      <th>Parch</th>\n",
       "      <th>Fare</th>\n",
       "    </tr>\n",
       "  </thead>\n",
       "  <tbody>\n",
       "    <tr>\n",
       "      <th>1</th>\n",
       "      <td>2</td>\n",
       "      <td>1</td>\n",
       "      <td>1</td>\n",
       "      <td>38</td>\n",
       "      <td>1</td>\n",
       "      <td>0</td>\n",
       "      <td>71.2833</td>\n",
       "    </tr>\n",
       "    <tr>\n",
       "      <th>3</th>\n",
       "      <td>4</td>\n",
       "      <td>1</td>\n",
       "      <td>1</td>\n",
       "      <td>35</td>\n",
       "      <td>1</td>\n",
       "      <td>0</td>\n",
       "      <td>53.1000</td>\n",
       "    </tr>\n",
       "    <tr>\n",
       "      <th>6</th>\n",
       "      <td>7</td>\n",
       "      <td>0</td>\n",
       "      <td>1</td>\n",
       "      <td>54</td>\n",
       "      <td>0</td>\n",
       "      <td>0</td>\n",
       "      <td>51.8625</td>\n",
       "    </tr>\n",
       "    <tr>\n",
       "      <th>10</th>\n",
       "      <td>11</td>\n",
       "      <td>1</td>\n",
       "      <td>3</td>\n",
       "      <td>4</td>\n",
       "      <td>1</td>\n",
       "      <td>1</td>\n",
       "      <td>16.7000</td>\n",
       "    </tr>\n",
       "    <tr>\n",
       "      <th>11</th>\n",
       "      <td>12</td>\n",
       "      <td>1</td>\n",
       "      <td>1</td>\n",
       "      <td>58</td>\n",
       "      <td>0</td>\n",
       "      <td>0</td>\n",
       "      <td>26.5500</td>\n",
       "    </tr>\n",
       "  </tbody>\n",
       "</table>\n",
       "</div>"
      ],
      "text/plain": [
       "    PassengerId  Survived  Pclass  Age  SibSp  Parch     Fare\n",
       "1             2         1       1   38      1      0  71.2833\n",
       "3             4         1       1   35      1      0  53.1000\n",
       "6             7         0       1   54      0      0  51.8625\n",
       "10           11         1       3    4      1      1  16.7000\n",
       "11           12         1       1   58      0      0  26.5500"
      ]
     },
     "execution_count": 61,
     "metadata": {},
     "output_type": "execute_result"
    }
   ],
   "source": [
    "# berieme len numericke data aby sme mali rovnake podmienky\n",
    "original = titanic.dropna()._get_numeric_data()\n",
    "original.head()"
   ]
  },
  {
   "cell_type": "code",
   "execution_count": 62,
   "metadata": {
    "collapsed": false,
    "slideshow": {
     "slide_type": "slide"
    }
   },
   "outputs": [
    {
     "data": {
      "text/plain": [
       "(0.50519713261648747, 0.17056422779932939)"
      ]
     },
     "execution_count": 62,
     "metadata": {},
     "output_type": "execute_result"
    }
   ],
   "source": [
    "from sklearn.model_selection import cross_val_score\n",
    "from sklearn.tree import DecisionTreeClassifier\n",
    "clf = DecisionTreeClassifier(max_depth=5)\n",
    "\n",
    "\n",
    "cross_validation_results = cross_val_score(clf, \n",
    "                                           original[original.columns[original.columns != 'Survived']], \n",
    "                                           original['Survived'], cv=6)\n",
    "(cross_validation_results.mean(), cross_validation_results.std())"
   ]
  },
  {
   "cell_type": "code",
   "execution_count": 63,
   "metadata": {
    "collapsed": false,
    "slideshow": {
     "slide_type": "slide"
    }
   },
   "outputs": [
    {
     "data": {
      "text/plain": [
       "array([ 0.38709677,  0.4516129 ,  0.22580645,  0.56666667,  0.7       ,\n",
       "        0.7       ])"
      ]
     },
     "execution_count": 63,
     "metadata": {},
     "output_type": "execute_result"
    }
   ],
   "source": [
    "cross_validation_results"
   ]
  },
  {
   "cell_type": "markdown",
   "metadata": {
    "slideshow": {
     "slide_type": "slide"
    }
   },
   "source": [
    "# Tramtadada .... vysledok pre nase kombinovane data"
   ]
  },
  {
   "cell_type": "code",
   "execution_count": 64,
   "metadata": {
    "collapsed": false,
    "slideshow": {
     "slide_type": "slide"
    }
   },
   "outputs": [
    {
     "data": {
      "text/html": [
       "<div>\n",
       "<table border=\"1\" class=\"dataframe\">\n",
       "  <thead>\n",
       "    <tr style=\"text-align: right;\">\n",
       "      <th></th>\n",
       "      <th>0</th>\n",
       "      <th>1</th>\n",
       "      <th>2</th>\n",
       "      <th>3</th>\n",
       "      <th>4</th>\n",
       "      <th>5</th>\n",
       "      <th>6</th>\n",
       "      <th>7</th>\n",
       "      <th>8</th>\n",
       "      <th>9</th>\n",
       "      <th>...</th>\n",
       "      <th>19</th>\n",
       "      <th>20</th>\n",
       "      <th>21</th>\n",
       "      <th>22</th>\n",
       "      <th>23</th>\n",
       "      <th>24</th>\n",
       "      <th>25</th>\n",
       "      <th>26</th>\n",
       "      <th>27</th>\n",
       "      <th>Survived</th>\n",
       "    </tr>\n",
       "  </thead>\n",
       "  <tbody>\n",
       "    <tr>\n",
       "      <th>0</th>\n",
       "      <td>1</td>\n",
       "      <td>2</td>\n",
       "      <td>1</td>\n",
       "      <td>38</td>\n",
       "      <td>1</td>\n",
       "      <td>0</td>\n",
       "      <td>71.2833</td>\n",
       "      <td>4</td>\n",
       "      <td>2</td>\n",
       "      <td>76</td>\n",
       "      <td>...</td>\n",
       "      <td>38</td>\n",
       "      <td>0</td>\n",
       "      <td>2708.7654</td>\n",
       "      <td>1</td>\n",
       "      <td>0</td>\n",
       "      <td>71.2833</td>\n",
       "      <td>0</td>\n",
       "      <td>0.0</td>\n",
       "      <td>5081.308859</td>\n",
       "      <td>1</td>\n",
       "    </tr>\n",
       "    <tr>\n",
       "      <th>1</th>\n",
       "      <td>1</td>\n",
       "      <td>4</td>\n",
       "      <td>1</td>\n",
       "      <td>35</td>\n",
       "      <td>1</td>\n",
       "      <td>0</td>\n",
       "      <td>53.1000</td>\n",
       "      <td>16</td>\n",
       "      <td>4</td>\n",
       "      <td>140</td>\n",
       "      <td>...</td>\n",
       "      <td>35</td>\n",
       "      <td>0</td>\n",
       "      <td>1858.5000</td>\n",
       "      <td>1</td>\n",
       "      <td>0</td>\n",
       "      <td>53.1000</td>\n",
       "      <td>0</td>\n",
       "      <td>0.0</td>\n",
       "      <td>2819.610000</td>\n",
       "      <td>1</td>\n",
       "    </tr>\n",
       "    <tr>\n",
       "      <th>2</th>\n",
       "      <td>1</td>\n",
       "      <td>7</td>\n",
       "      <td>1</td>\n",
       "      <td>54</td>\n",
       "      <td>0</td>\n",
       "      <td>0</td>\n",
       "      <td>51.8625</td>\n",
       "      <td>49</td>\n",
       "      <td>7</td>\n",
       "      <td>378</td>\n",
       "      <td>...</td>\n",
       "      <td>0</td>\n",
       "      <td>0</td>\n",
       "      <td>2800.5750</td>\n",
       "      <td>0</td>\n",
       "      <td>0</td>\n",
       "      <td>0.0000</td>\n",
       "      <td>0</td>\n",
       "      <td>0.0</td>\n",
       "      <td>2689.718906</td>\n",
       "      <td>0</td>\n",
       "    </tr>\n",
       "    <tr>\n",
       "      <th>3</th>\n",
       "      <td>1</td>\n",
       "      <td>11</td>\n",
       "      <td>3</td>\n",
       "      <td>4</td>\n",
       "      <td>1</td>\n",
       "      <td>1</td>\n",
       "      <td>16.7000</td>\n",
       "      <td>121</td>\n",
       "      <td>33</td>\n",
       "      <td>44</td>\n",
       "      <td>...</td>\n",
       "      <td>4</td>\n",
       "      <td>4</td>\n",
       "      <td>66.8000</td>\n",
       "      <td>1</td>\n",
       "      <td>1</td>\n",
       "      <td>16.7000</td>\n",
       "      <td>1</td>\n",
       "      <td>16.7</td>\n",
       "      <td>278.890000</td>\n",
       "      <td>1</td>\n",
       "    </tr>\n",
       "    <tr>\n",
       "      <th>4</th>\n",
       "      <td>1</td>\n",
       "      <td>12</td>\n",
       "      <td>1</td>\n",
       "      <td>58</td>\n",
       "      <td>0</td>\n",
       "      <td>0</td>\n",
       "      <td>26.5500</td>\n",
       "      <td>144</td>\n",
       "      <td>12</td>\n",
       "      <td>696</td>\n",
       "      <td>...</td>\n",
       "      <td>0</td>\n",
       "      <td>0</td>\n",
       "      <td>1539.9000</td>\n",
       "      <td>0</td>\n",
       "      <td>0</td>\n",
       "      <td>0.0000</td>\n",
       "      <td>0</td>\n",
       "      <td>0.0</td>\n",
       "      <td>704.902500</td>\n",
       "      <td>1</td>\n",
       "    </tr>\n",
       "  </tbody>\n",
       "</table>\n",
       "<p>5 rows × 29 columns</p>\n",
       "</div>"
      ],
      "text/plain": [
       "   0   1  2   3  4  5        6    7   8    9    ...     19  20         21  22  \\\n",
       "0  1   2  1  38  1  0  71.2833    4   2   76    ...     38   0  2708.7654   1   \n",
       "1  1   4  1  35  1  0  53.1000   16   4  140    ...     35   0  1858.5000   1   \n",
       "2  1   7  1  54  0  0  51.8625   49   7  378    ...      0   0  2800.5750   0   \n",
       "3  1  11  3   4  1  1  16.7000  121  33   44    ...      4   4    66.8000   1   \n",
       "4  1  12  1  58  0  0  26.5500  144  12  696    ...      0   0  1539.9000   0   \n",
       "\n",
       "   23       24  25    26           27  Survived  \n",
       "0   0  71.2833   0   0.0  5081.308859         1  \n",
       "1   0  53.1000   0   0.0  2819.610000         1  \n",
       "2   0   0.0000   0   0.0  2689.718906         0  \n",
       "3   1  16.7000   1  16.7   278.890000         1  \n",
       "4   0   0.0000   0   0.0   704.902500         1  \n",
       "\n",
       "[5 rows x 29 columns]"
      ]
     },
     "execution_count": 64,
     "metadata": {},
     "output_type": "execute_result"
    }
   ],
   "source": [
    "# pricapime naspat info o triedach\n",
    "polynomial['Survived'] = titanic_y\n",
    "polynomial.head()"
   ]
  },
  {
   "cell_type": "code",
   "execution_count": 65,
   "metadata": {
    "collapsed": false,
    "slideshow": {
     "slide_type": "slide"
    }
   },
   "outputs": [
    {
     "data": {
      "text/plain": [
       "(0.61236559139784941, 0.10213686005393954)"
      ]
     },
     "execution_count": 65,
     "metadata": {},
     "output_type": "execute_result"
    }
   ],
   "source": [
    "from sklearn.model_selection import cross_val_score\n",
    "# clf = LogisticRegression()\n",
    "from sklearn.tree import DecisionTreeClassifier\n",
    "clf = DecisionTreeClassifier(max_depth=5)\n",
    "\n",
    "cross_validation_results = cross_val_score(clf, \n",
    "                                           polynomial[polynomial.columns[polynomial.columns != 'Survived']], \n",
    "                                           polynomial['Survived'], cv=6)\n",
    "(cross_validation_results.mean(), cross_validation_results.std())"
   ]
  },
  {
   "cell_type": "code",
   "execution_count": 66,
   "metadata": {
    "collapsed": false,
    "slideshow": {
     "slide_type": "slide"
    }
   },
   "outputs": [
    {
     "data": {
      "text/plain": [
       "array([ 0.41935484,  0.67741935,  0.67741935,  0.66666667,  0.53333333,\n",
       "        0.7       ])"
      ]
     },
     "execution_count": 66,
     "metadata": {},
     "output_type": "execute_result"
    }
   ],
   "source": [
    "cross_validation_results"
   ]
  },
  {
   "cell_type": "markdown",
   "metadata": {
    "slideshow": {
     "slide_type": "slide"
    }
   },
   "source": [
    "# Nanestastie tieto Polynomialne vlastnosti vyrabaju len mocniny a nasobky\n",
    "\n",
    "Daju sa ale spravit vlastne transformatory"
   ]
  },
  {
   "cell_type": "code",
   "execution_count": 67,
   "metadata": {
    "collapsed": false,
    "slideshow": {
     "slide_type": "slide"
    }
   },
   "outputs": [
    {
     "data": {
      "text/plain": [
       "array([[ 0.        ,  0.69314718],\n",
       "       [ 1.09861229,  1.38629436]])"
      ]
     },
     "execution_count": 67,
     "metadata": {},
     "output_type": "execute_result"
    }
   ],
   "source": [
    "import numpy as np\n",
    "from sklearn.preprocessing import FunctionTransformer\n",
    "transformer = FunctionTransformer(np.log1p)\n",
    "X = np.array([[0, 1], [2, 3]])\n",
    "transformer.transform(X)"
   ]
  },
  {
   "cell_type": "markdown",
   "metadata": {
    "collapsed": true,
    "slideshow": {
     "slide_type": "slide"
    }
   },
   "source": [
    "# Varovanie na koniec\n",
    "\n",
    "* Ked budete robit hociake operacie nad datami, tak si dajte pozor aby ste robili rovnake operacie nad trenovacou aj testovacou sadou (transformacie atributov, vytvaranie novych, filtrovanie ...)\n",
    "* Dajte si pozor aby vam do trenovania nepretiekli udaje z buducnosti\n",
    "> ked idem napriklad normalizovat nieco priemerom, tak hodnotu priemeru pocitam len nad trenovacimi datami a nie nad vsetkymi\n",
    "> Pri tomto vedia velmi pomoct tzv. Pipeliny> http://zacstewart.com/2014/08/05/pipelines-of-featureunions-of-pipelines.html\n",
    "\n",
    "* ked budete normalizovat udaje, tak na normalizovanie testovacej vzorky pouzite koeficienty z trenovacej vzorky"
   ]
  },
  {
   "cell_type": "markdown",
   "metadata": {
    "slideshow": {
     "slide_type": "slide"
    }
   },
   "source": [
    "# Na co by bolo dobre sa poziret niekedy nabuduce\n",
    "\n",
    "Co su suvisiace temy, ktore sme teraz nestihli, ale ktore sa vam mozu velmi hodit v buducnosti\n",
    "\n",
    "> ## Transformacia kategorickych atributov na numericke\n",
    "> ## Vyber atributov\n",
    "> ## Extrakcia atributov\n",
    "> ## Nevyvazene datasety\n",
    "> ## Pipeline"
   ]
  }
 ],
 "metadata": {
  "celltoolbar": "Slideshow",
  "kernelspec": {
   "display_name": "Python 3",
   "language": "python",
   "name": "python3"
  },
  "language_info": {
   "codemirror_mode": {
    "name": "ipython",
    "version": 3
   },
   "file_extension": ".py",
   "mimetype": "text/x-python",
   "name": "python",
   "nbconvert_exporter": "python",
   "pygments_lexer": "ipython3",
   "version": "3.4.0"
  }
 },
 "nbformat": 4,
 "nbformat_minor": 0
}
